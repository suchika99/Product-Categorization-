{
 "cells": [
  {
   "cell_type": "markdown",
   "metadata": {},
   "source": [
    "# Flipkart ecommerce dataset\n",
    "<br>\n",
    "Predicting Primary Category from Description."
   ]
  },
  {
   "cell_type": "markdown",
   "metadata": {},
   "source": [
    "### Importing the libraries"
   ]
  },
  {
   "cell_type": "code",
   "execution_count": 1,
   "metadata": {},
   "outputs": [],
   "source": [
    "import numpy as np\n",
    "import pandas as pd\n",
    "import matplotlib.pyplot as plt\n",
    "from nltk.tokenize import RegexpTokenizer\n",
    "from nltk.stem.porter import PorterStemmer\n",
    "from nltk.corpus import stopwords\n",
    "from sklearn import preprocessing\n",
    "from sklearn.feature_extraction.text import CountVectorizer\n",
    "from sklearn.model_selection import train_test_split\n",
    "from sklearn.naive_bayes import MultinomialNB\n",
    "from sklearn import svm\n",
    "from sklearn.ensemble import RandomForestClassifier\n",
    "from sklearn import metrics  "
   ]
  },
  {
   "cell_type": "markdown",
   "metadata": {},
   "source": [
    "### Loading the dataset"
   ]
  },
  {
   "cell_type": "code",
   "execution_count": 2,
   "metadata": {},
   "outputs": [],
   "source": [
    "dataset = pd.read_csv(\"dataset.csv\")"
   ]
  },
  {
   "cell_type": "markdown",
   "metadata": {},
   "source": [
    "### Understanding the basic structure of the dataset"
   ]
  },
  {
   "cell_type": "code",
   "execution_count": 3,
   "metadata": {},
   "outputs": [
    {
     "data": {
      "text/html": [
       "<div>\n",
       "<style scoped>\n",
       "    .dataframe tbody tr th:only-of-type {\n",
       "        vertical-align: middle;\n",
       "    }\n",
       "\n",
       "    .dataframe tbody tr th {\n",
       "        vertical-align: top;\n",
       "    }\n",
       "\n",
       "    .dataframe thead th {\n",
       "        text-align: right;\n",
       "    }\n",
       "</style>\n",
       "<table border=\"1\" class=\"dataframe\">\n",
       "  <thead>\n",
       "    <tr style=\"text-align: right;\">\n",
       "      <th></th>\n",
       "      <th>uniq_id</th>\n",
       "      <th>crawl_timestamp</th>\n",
       "      <th>product_url</th>\n",
       "      <th>product_name</th>\n",
       "      <th>product_category_tree</th>\n",
       "      <th>pid</th>\n",
       "      <th>retail_price</th>\n",
       "      <th>discounted_price</th>\n",
       "      <th>image</th>\n",
       "      <th>is_FK_Advantage_product</th>\n",
       "      <th>description</th>\n",
       "      <th>product_rating</th>\n",
       "      <th>overall_rating</th>\n",
       "      <th>brand</th>\n",
       "      <th>product_specifications</th>\n",
       "    </tr>\n",
       "  </thead>\n",
       "  <tbody>\n",
       "    <tr>\n",
       "      <th>0</th>\n",
       "      <td>c2d766ca982eca8304150849735ffef9</td>\n",
       "      <td>2016-03-25 22:59:23 +0000</td>\n",
       "      <td>http://www.flipkart.com/alisha-solid-women-s-c...</td>\n",
       "      <td>Alisha Solid Women's Cycling Shorts</td>\n",
       "      <td>[\"Clothing &gt;&gt; Women's Clothing &gt;&gt; Lingerie, Sl...</td>\n",
       "      <td>SRTEH2FF9KEDEFGF</td>\n",
       "      <td>999.0</td>\n",
       "      <td>379.0</td>\n",
       "      <td>[\"http://img5a.flixcart.com/image/short/u/4/a/...</td>\n",
       "      <td>False</td>\n",
       "      <td>Key Features of Alisha Solid Women's Cycling S...</td>\n",
       "      <td>No rating available</td>\n",
       "      <td>No rating available</td>\n",
       "      <td>Alisha</td>\n",
       "      <td>{\"product_specification\"=&gt;[{\"key\"=&gt;\"Number of ...</td>\n",
       "    </tr>\n",
       "    <tr>\n",
       "      <th>1</th>\n",
       "      <td>7f7036a6d550aaa89d34c77bd39a5e48</td>\n",
       "      <td>2016-03-25 22:59:23 +0000</td>\n",
       "      <td>http://www.flipkart.com/fabhomedecor-fabric-do...</td>\n",
       "      <td>FabHomeDecor Fabric Double Sofa Bed</td>\n",
       "      <td>[\"Furniture &gt;&gt; Living Room Furniture &gt;&gt; Sofa B...</td>\n",
       "      <td>SBEEH3QGU7MFYJFY</td>\n",
       "      <td>32157.0</td>\n",
       "      <td>22646.0</td>\n",
       "      <td>[\"http://img6a.flixcart.com/image/sofa-bed/j/f...</td>\n",
       "      <td>False</td>\n",
       "      <td>FabHomeDecor Fabric Double Sofa Bed (Finish Co...</td>\n",
       "      <td>No rating available</td>\n",
       "      <td>No rating available</td>\n",
       "      <td>FabHomeDecor</td>\n",
       "      <td>{\"product_specification\"=&gt;[{\"key\"=&gt;\"Installati...</td>\n",
       "    </tr>\n",
       "    <tr>\n",
       "      <th>2</th>\n",
       "      <td>f449ec65dcbc041b6ae5e6a32717d01b</td>\n",
       "      <td>2016-03-25 22:59:23 +0000</td>\n",
       "      <td>http://www.flipkart.com/aw-bellies/p/itmeh4grg...</td>\n",
       "      <td>AW Bellies</td>\n",
       "      <td>[\"Footwear &gt;&gt; Women's Footwear &gt;&gt; Ballerinas &gt;...</td>\n",
       "      <td>SHOEH4GRSUBJGZXE</td>\n",
       "      <td>999.0</td>\n",
       "      <td>499.0</td>\n",
       "      <td>[\"http://img5a.flixcart.com/image/shoe/7/z/z/r...</td>\n",
       "      <td>False</td>\n",
       "      <td>Key Features of AW Bellies Sandals Wedges Heel...</td>\n",
       "      <td>No rating available</td>\n",
       "      <td>No rating available</td>\n",
       "      <td>AW</td>\n",
       "      <td>{\"product_specification\"=&gt;[{\"key\"=&gt;\"Ideal For\"...</td>\n",
       "    </tr>\n",
       "    <tr>\n",
       "      <th>3</th>\n",
       "      <td>0973b37acd0c664e3de26e97e5571454</td>\n",
       "      <td>2016-03-25 22:59:23 +0000</td>\n",
       "      <td>http://www.flipkart.com/alisha-solid-women-s-c...</td>\n",
       "      <td>Alisha Solid Women's Cycling Shorts</td>\n",
       "      <td>[\"Clothing &gt;&gt; Women's Clothing &gt;&gt; Lingerie, Sl...</td>\n",
       "      <td>SRTEH2F6HUZMQ6SJ</td>\n",
       "      <td>699.0</td>\n",
       "      <td>267.0</td>\n",
       "      <td>[\"http://img5a.flixcart.com/image/short/6/2/h/...</td>\n",
       "      <td>False</td>\n",
       "      <td>Key Features of Alisha Solid Women's Cycling S...</td>\n",
       "      <td>No rating available</td>\n",
       "      <td>No rating available</td>\n",
       "      <td>Alisha</td>\n",
       "      <td>{\"product_specification\"=&gt;[{\"key\"=&gt;\"Number of ...</td>\n",
       "    </tr>\n",
       "    <tr>\n",
       "      <th>4</th>\n",
       "      <td>bc940ea42ee6bef5ac7cea3fb5cfbee7</td>\n",
       "      <td>2016-03-25 22:59:23 +0000</td>\n",
       "      <td>http://www.flipkart.com/sicons-all-purpose-arn...</td>\n",
       "      <td>Sicons All Purpose Arnica Dog Shampoo</td>\n",
       "      <td>[\"Pet Supplies &gt;&gt; Grooming &gt;&gt; Skin &amp; Coat Care...</td>\n",
       "      <td>PSOEH3ZYDMSYARJ5</td>\n",
       "      <td>220.0</td>\n",
       "      <td>210.0</td>\n",
       "      <td>[\"http://img5a.flixcart.com/image/pet-shampoo/...</td>\n",
       "      <td>False</td>\n",
       "      <td>Specifications of Sicons All Purpose Arnica Do...</td>\n",
       "      <td>No rating available</td>\n",
       "      <td>No rating available</td>\n",
       "      <td>Sicons</td>\n",
       "      <td>{\"product_specification\"=&gt;[{\"key\"=&gt;\"Pet Type\",...</td>\n",
       "    </tr>\n",
       "  </tbody>\n",
       "</table>\n",
       "</div>"
      ],
      "text/plain": [
       "                            uniq_id            crawl_timestamp  \\\n",
       "0  c2d766ca982eca8304150849735ffef9  2016-03-25 22:59:23 +0000   \n",
       "1  7f7036a6d550aaa89d34c77bd39a5e48  2016-03-25 22:59:23 +0000   \n",
       "2  f449ec65dcbc041b6ae5e6a32717d01b  2016-03-25 22:59:23 +0000   \n",
       "3  0973b37acd0c664e3de26e97e5571454  2016-03-25 22:59:23 +0000   \n",
       "4  bc940ea42ee6bef5ac7cea3fb5cfbee7  2016-03-25 22:59:23 +0000   \n",
       "\n",
       "                                         product_url  \\\n",
       "0  http://www.flipkart.com/alisha-solid-women-s-c...   \n",
       "1  http://www.flipkart.com/fabhomedecor-fabric-do...   \n",
       "2  http://www.flipkart.com/aw-bellies/p/itmeh4grg...   \n",
       "3  http://www.flipkart.com/alisha-solid-women-s-c...   \n",
       "4  http://www.flipkart.com/sicons-all-purpose-arn...   \n",
       "\n",
       "                            product_name  \\\n",
       "0    Alisha Solid Women's Cycling Shorts   \n",
       "1    FabHomeDecor Fabric Double Sofa Bed   \n",
       "2                             AW Bellies   \n",
       "3    Alisha Solid Women's Cycling Shorts   \n",
       "4  Sicons All Purpose Arnica Dog Shampoo   \n",
       "\n",
       "                               product_category_tree               pid  \\\n",
       "0  [\"Clothing >> Women's Clothing >> Lingerie, Sl...  SRTEH2FF9KEDEFGF   \n",
       "1  [\"Furniture >> Living Room Furniture >> Sofa B...  SBEEH3QGU7MFYJFY   \n",
       "2  [\"Footwear >> Women's Footwear >> Ballerinas >...  SHOEH4GRSUBJGZXE   \n",
       "3  [\"Clothing >> Women's Clothing >> Lingerie, Sl...  SRTEH2F6HUZMQ6SJ   \n",
       "4  [\"Pet Supplies >> Grooming >> Skin & Coat Care...  PSOEH3ZYDMSYARJ5   \n",
       "\n",
       "   retail_price  discounted_price  \\\n",
       "0         999.0             379.0   \n",
       "1       32157.0           22646.0   \n",
       "2         999.0             499.0   \n",
       "3         699.0             267.0   \n",
       "4         220.0             210.0   \n",
       "\n",
       "                                               image  is_FK_Advantage_product  \\\n",
       "0  [\"http://img5a.flixcart.com/image/short/u/4/a/...                    False   \n",
       "1  [\"http://img6a.flixcart.com/image/sofa-bed/j/f...                    False   \n",
       "2  [\"http://img5a.flixcart.com/image/shoe/7/z/z/r...                    False   \n",
       "3  [\"http://img5a.flixcart.com/image/short/6/2/h/...                    False   \n",
       "4  [\"http://img5a.flixcart.com/image/pet-shampoo/...                    False   \n",
       "\n",
       "                                         description       product_rating  \\\n",
       "0  Key Features of Alisha Solid Women's Cycling S...  No rating available   \n",
       "1  FabHomeDecor Fabric Double Sofa Bed (Finish Co...  No rating available   \n",
       "2  Key Features of AW Bellies Sandals Wedges Heel...  No rating available   \n",
       "3  Key Features of Alisha Solid Women's Cycling S...  No rating available   \n",
       "4  Specifications of Sicons All Purpose Arnica Do...  No rating available   \n",
       "\n",
       "        overall_rating         brand  \\\n",
       "0  No rating available        Alisha   \n",
       "1  No rating available  FabHomeDecor   \n",
       "2  No rating available            AW   \n",
       "3  No rating available        Alisha   \n",
       "4  No rating available        Sicons   \n",
       "\n",
       "                              product_specifications  \n",
       "0  {\"product_specification\"=>[{\"key\"=>\"Number of ...  \n",
       "1  {\"product_specification\"=>[{\"key\"=>\"Installati...  \n",
       "2  {\"product_specification\"=>[{\"key\"=>\"Ideal For\"...  \n",
       "3  {\"product_specification\"=>[{\"key\"=>\"Number of ...  \n",
       "4  {\"product_specification\"=>[{\"key\"=>\"Pet Type\",...  "
      ]
     },
     "execution_count": 3,
     "metadata": {},
     "output_type": "execute_result"
    }
   ],
   "source": [
    "dataset.head()"
   ]
  },
  {
   "cell_type": "code",
   "execution_count": 4,
   "metadata": {},
   "outputs": [
    {
     "name": "stdout",
     "output_type": "stream",
     "text": [
      "<class 'pandas.core.frame.DataFrame'>\n",
      "RangeIndex: 20000 entries, 0 to 19999\n",
      "Data columns (total 15 columns):\n",
      " #   Column                   Non-Null Count  Dtype  \n",
      "---  ------                   --------------  -----  \n",
      " 0   uniq_id                  20000 non-null  object \n",
      " 1   crawl_timestamp          20000 non-null  object \n",
      " 2   product_url              20000 non-null  object \n",
      " 3   product_name             20000 non-null  object \n",
      " 4   product_category_tree    20000 non-null  object \n",
      " 5   pid                      20000 non-null  object \n",
      " 6   retail_price             19922 non-null  float64\n",
      " 7   discounted_price         19922 non-null  float64\n",
      " 8   image                    19997 non-null  object \n",
      " 9   is_FK_Advantage_product  20000 non-null  bool   \n",
      " 10  description              19998 non-null  object \n",
      " 11  product_rating           20000 non-null  object \n",
      " 12  overall_rating           20000 non-null  object \n",
      " 13  brand                    14136 non-null  object \n",
      " 14  product_specifications   19986 non-null  object \n",
      "dtypes: bool(1), float64(2), object(12)\n",
      "memory usage: 2.2+ MB\n"
     ]
    }
   ],
   "source": [
    "dataset.info()"
   ]
  },
  {
   "cell_type": "markdown",
   "metadata": {},
   "source": [
    "### Dropping the extra columns"
   ]
  },
  {
   "cell_type": "markdown",
   "metadata": {},
   "source": [
    "We only need 2 columns : <b>product_category_tree</b> and <b>description</b> to perform the task. <br> Therefore, we will create a copy of our dataset which have these 2 columns."
   ]
  },
  {
   "cell_type": "code",
   "execution_count": 5,
   "metadata": {},
   "outputs": [],
   "source": [
    "data = dataset.drop([\"uniq_id\",\"crawl_timestamp\",\"product_name\",\"product_url\",\"pid\",\"retail_price\",\"discounted_price\",\"image\",\"is_FK_Advantage_product\",\"product_rating\",\"overall_rating\",\"brand\",\"product_specifications\"],axis=1)"
   ]
  },
  {
   "cell_type": "markdown",
   "metadata": {},
   "source": [
    "Now <b>data</b> is our required dataset. The structure of this is as follows: "
   ]
  },
  {
   "cell_type": "code",
   "execution_count": 6,
   "metadata": {},
   "outputs": [
    {
     "name": "stdout",
     "output_type": "stream",
     "text": [
      "<class 'pandas.core.frame.DataFrame'>\n",
      "RangeIndex: 20000 entries, 0 to 19999\n",
      "Data columns (total 2 columns):\n",
      " #   Column                 Non-Null Count  Dtype \n",
      "---  ------                 --------------  ----- \n",
      " 0   product_category_tree  20000 non-null  object\n",
      " 1   description            19998 non-null  object\n",
      "dtypes: object(2)\n",
      "memory usage: 312.6+ KB\n"
     ]
    }
   ],
   "source": [
    "data.info()"
   ]
  },
  {
   "cell_type": "markdown",
   "metadata": {},
   "source": [
    "Now we can see that the description column has 2 null values. <br> Therefore, they are not useful to us and we can remove these rows."
   ]
  },
  {
   "cell_type": "markdown",
   "metadata": {},
   "source": [
    "### Identifying the rows with NULL values and removing them"
   ]
  },
  {
   "cell_type": "code",
   "execution_count": 7,
   "metadata": {},
   "outputs": [
    {
     "data": {
      "text/html": [
       "<div>\n",
       "<style scoped>\n",
       "    .dataframe tbody tr th:only-of-type {\n",
       "        vertical-align: middle;\n",
       "    }\n",
       "\n",
       "    .dataframe tbody tr th {\n",
       "        vertical-align: top;\n",
       "    }\n",
       "\n",
       "    .dataframe thead th {\n",
       "        text-align: right;\n",
       "    }\n",
       "</style>\n",
       "<table border=\"1\" class=\"dataframe\">\n",
       "  <thead>\n",
       "    <tr style=\"text-align: right;\">\n",
       "      <th></th>\n",
       "      <th>product_category_tree</th>\n",
       "      <th>description</th>\n",
       "    </tr>\n",
       "  </thead>\n",
       "  <tbody>\n",
       "    <tr>\n",
       "      <th>553</th>\n",
       "      <td>[\"Clothing &gt;&gt; Women's Clothing &gt;&gt; Western Wear...</td>\n",
       "      <td>NaN</td>\n",
       "    </tr>\n",
       "    <tr>\n",
       "      <th>17299</th>\n",
       "      <td>[\"Home Furnishing &gt;&gt; Cushions, Pillows &amp; Cover...</td>\n",
       "      <td>NaN</td>\n",
       "    </tr>\n",
       "  </tbody>\n",
       "</table>\n",
       "</div>"
      ],
      "text/plain": [
       "                                   product_category_tree description\n",
       "553    [\"Clothing >> Women's Clothing >> Western Wear...         NaN\n",
       "17299  [\"Home Furnishing >> Cushions, Pillows & Cover...         NaN"
      ]
     },
     "execution_count": 7,
     "metadata": {},
     "output_type": "execute_result"
    }
   ],
   "source": [
    "data[data[\"description\"].isna()]"
   ]
  },
  {
   "cell_type": "markdown",
   "metadata": {},
   "source": [
    "We have row 553 and 17299 having no description so, we will delete them."
   ]
  },
  {
   "cell_type": "code",
   "execution_count": 8,
   "metadata": {},
   "outputs": [],
   "source": [
    "data = data.drop([553,17299])"
   ]
  },
  {
   "cell_type": "code",
   "execution_count": 9,
   "metadata": {},
   "outputs": [
    {
     "name": "stdout",
     "output_type": "stream",
     "text": [
      "<class 'pandas.core.frame.DataFrame'>\n",
      "Int64Index: 19998 entries, 0 to 19999\n",
      "Data columns (total 2 columns):\n",
      " #   Column                 Non-Null Count  Dtype \n",
      "---  ------                 --------------  ----- \n",
      " 0   product_category_tree  19998 non-null  object\n",
      " 1   description            19998 non-null  object\n",
      "dtypes: object(2)\n",
      "memory usage: 468.7+ KB\n"
     ]
    }
   ],
   "source": [
    "data.info()"
   ]
  },
  {
   "cell_type": "markdown",
   "metadata": {},
   "source": [
    "### Resetting the index values\n",
    "\n",
    "After removal of two rows, the indices of our data would be inconsistent.<br>\n",
    "So, we have to reset the index values for further processes."
   ]
  },
  {
   "cell_type": "code",
   "execution_count": 10,
   "metadata": {},
   "outputs": [],
   "source": [
    "data = data.reset_index()"
   ]
  },
  {
   "cell_type": "markdown",
   "metadata": {},
   "source": [
    "### Converting Product Category Tree to list\n",
    "\n",
    "Our first task is to segregate the product_category_tree and have a column for each level.<br>\n",
    "To achieve this, we will first convert it into list by splitting the elements using \" >> \" as our separator."
   ]
  },
  {
   "cell_type": "code",
   "execution_count": 11,
   "metadata": {},
   "outputs": [
    {
     "name": "stderr",
     "output_type": "stream",
     "text": [
      "<ipython-input-11-56d8d15ebe44>:2: SettingWithCopyWarning: \n",
      "A value is trying to be set on a copy of a slice from a DataFrame\n",
      "\n",
      "See the caveats in the documentation: https://pandas.pydata.org/pandas-docs/stable/user_guide/indexing.html#returning-a-view-versus-a-copy\n",
      "  data[\"product_category_tree\"][i] = data[\"product_category_tree\"][i][2:-2]\n",
      "<ipython-input-11-56d8d15ebe44>:3: SettingWithCopyWarning: \n",
      "A value is trying to be set on a copy of a slice from a DataFrame\n",
      "\n",
      "See the caveats in the documentation: https://pandas.pydata.org/pandas-docs/stable/user_guide/indexing.html#returning-a-view-versus-a-copy\n",
      "  data[\"product_category_tree\"][i] = data[\"product_category_tree\"][i].split(\" >> \")\n"
     ]
    }
   ],
   "source": [
    "for i in range(0,len(data)):\n",
    "    data[\"product_category_tree\"][i] = data[\"product_category_tree\"][i][2:-2]\n",
    "    data[\"product_category_tree\"][i] = data[\"product_category_tree\"][i].split(\" >> \")"
   ]
  },
  {
   "cell_type": "markdown",
   "metadata": {},
   "source": [
    "### New structure of elements of product_category_tree"
   ]
  },
  {
   "cell_type": "code",
   "execution_count": 12,
   "metadata": {},
   "outputs": [
    {
     "name": "stdout",
     "output_type": "stream",
     "text": [
      "['Clothing', \"Women's Clothing\", 'Lingerie, Sleep & Swimwear', 'Shorts', 'Alisha Shorts', \"Alisha Solid Women's Cycling Shorts\"]\n",
      "['Furniture', 'Living Room Furniture', 'Sofa Beds & Futons', 'FabHomeDecor Fabric Double Sofa Bed (Finish Colo...']\n"
     ]
    }
   ],
   "source": [
    "print(data[\"product_category_tree\"][0])\n",
    "print(data[\"product_category_tree\"][1])"
   ]
  },
  {
   "cell_type": "markdown",
   "metadata": {},
   "source": [
    "### Maximum and Minimum number of levels in the dataset\n",
    "<br>\n",
    "We will check the maximum and minimum number of levels to check how many columns are required to be created to accommodate all the values of the product_category_tree."
   ]
  },
  {
   "cell_type": "code",
   "execution_count": 13,
   "metadata": {},
   "outputs": [
    {
     "name": "stdout",
     "output_type": "stream",
     "text": [
      "Maximum Levels : 8\n",
      "Minimun Levels : 1\n"
     ]
    }
   ],
   "source": [
    "print(\"Maximum Levels : \"+ str(data.product_category_tree.map(lambda x : len(x)).max()))\n",
    "print(\"Minimun Levels : \"+ str(data.product_category_tree.map(lambda x : len(x)).min()))"
   ]
  },
  {
   "cell_type": "markdown",
   "metadata": {},
   "source": [
    "### Creating a column for length of product_category_tree"
   ]
  },
  {
   "cell_type": "code",
   "execution_count": 14,
   "metadata": {},
   "outputs": [],
   "source": [
    "data[\"length_category\"] = data.product_category_tree.map(lambda x : len(x))"
   ]
  },
  {
   "cell_type": "code",
   "execution_count": 15,
   "metadata": {},
   "outputs": [
    {
     "data": {
      "text/html": [
       "<div>\n",
       "<style scoped>\n",
       "    .dataframe tbody tr th:only-of-type {\n",
       "        vertical-align: middle;\n",
       "    }\n",
       "\n",
       "    .dataframe tbody tr th {\n",
       "        vertical-align: top;\n",
       "    }\n",
       "\n",
       "    .dataframe thead th {\n",
       "        text-align: right;\n",
       "    }\n",
       "</style>\n",
       "<table border=\"1\" class=\"dataframe\">\n",
       "  <thead>\n",
       "    <tr style=\"text-align: right;\">\n",
       "      <th></th>\n",
       "      <th>index</th>\n",
       "      <th>product_category_tree</th>\n",
       "      <th>description</th>\n",
       "      <th>length_category</th>\n",
       "    </tr>\n",
       "  </thead>\n",
       "  <tbody>\n",
       "    <tr>\n",
       "      <th>0</th>\n",
       "      <td>0</td>\n",
       "      <td>[Clothing, Women's Clothing, Lingerie, Sleep &amp;...</td>\n",
       "      <td>Key Features of Alisha Solid Women's Cycling S...</td>\n",
       "      <td>6</td>\n",
       "    </tr>\n",
       "    <tr>\n",
       "      <th>1</th>\n",
       "      <td>1</td>\n",
       "      <td>[Furniture, Living Room Furniture, Sofa Beds &amp;...</td>\n",
       "      <td>FabHomeDecor Fabric Double Sofa Bed (Finish Co...</td>\n",
       "      <td>4</td>\n",
       "    </tr>\n",
       "    <tr>\n",
       "      <th>2</th>\n",
       "      <td>2</td>\n",
       "      <td>[Footwear, Women's Footwear, Ballerinas, AW Be...</td>\n",
       "      <td>Key Features of AW Bellies Sandals Wedges Heel...</td>\n",
       "      <td>4</td>\n",
       "    </tr>\n",
       "    <tr>\n",
       "      <th>3</th>\n",
       "      <td>3</td>\n",
       "      <td>[Clothing, Women's Clothing, Lingerie, Sleep &amp;...</td>\n",
       "      <td>Key Features of Alisha Solid Women's Cycling S...</td>\n",
       "      <td>6</td>\n",
       "    </tr>\n",
       "    <tr>\n",
       "      <th>4</th>\n",
       "      <td>4</td>\n",
       "      <td>[Pet Supplies, Grooming, Skin &amp; Coat Care, Sha...</td>\n",
       "      <td>Specifications of Sicons All Purpose Arnica Do...</td>\n",
       "      <td>5</td>\n",
       "    </tr>\n",
       "  </tbody>\n",
       "</table>\n",
       "</div>"
      ],
      "text/plain": [
       "   index                              product_category_tree  \\\n",
       "0      0  [Clothing, Women's Clothing, Lingerie, Sleep &...   \n",
       "1      1  [Furniture, Living Room Furniture, Sofa Beds &...   \n",
       "2      2  [Footwear, Women's Footwear, Ballerinas, AW Be...   \n",
       "3      3  [Clothing, Women's Clothing, Lingerie, Sleep &...   \n",
       "4      4  [Pet Supplies, Grooming, Skin & Coat Care, Sha...   \n",
       "\n",
       "                                         description  length_category  \n",
       "0  Key Features of Alisha Solid Women's Cycling S...                6  \n",
       "1  FabHomeDecor Fabric Double Sofa Bed (Finish Co...                4  \n",
       "2  Key Features of AW Bellies Sandals Wedges Heel...                4  \n",
       "3  Key Features of Alisha Solid Women's Cycling S...                6  \n",
       "4  Specifications of Sicons All Purpose Arnica Do...                5  "
      ]
     },
     "execution_count": 15,
     "metadata": {},
     "output_type": "execute_result"
    }
   ],
   "source": [
    "data.head()"
   ]
  },
  {
   "cell_type": "markdown",
   "metadata": {},
   "source": [
    "### Making individual columns for each level of category classification\n"
   ]
  },
  {
   "cell_type": "markdown",
   "metadata": {},
   "source": [
    "This function is used to create a list of elements at a particular level. We have to give it our dataset and level number and it will return a list containing the categories for all items at that particular level."
   ]
  },
  {
   "cell_type": "code",
   "execution_count": 16,
   "metadata": {},
   "outputs": [],
   "source": [
    "def create_level(data,level_no):\n",
    "    level_items = []\n",
    "    for i in range(0,len(data)):\n",
    "        if(len(data[\"product_category_tree\"][i]) >= level_no):\n",
    "            ele = data[\"product_category_tree\"][i][level_no-1]\n",
    "            level_items.append(ele)\n",
    "        else:\n",
    "            level_items.append(None)\n",
    "            \n",
    "    return level_items"
   ]
  },
  {
   "cell_type": "markdown",
   "metadata": {},
   "source": [
    "Now we will execute this function and get the data for all the levels."
   ]
  },
  {
   "cell_type": "code",
   "execution_count": 17,
   "metadata": {},
   "outputs": [],
   "source": [
    "level1_data = create_level(data,1)\n",
    "level2_data = create_level(data,2)\n",
    "level3_data = create_level(data,3)\n",
    "level4_data = create_level(data,4)\n",
    "level5_data = create_level(data,5)\n",
    "level6_data = create_level(data,6)\n",
    "level7_data = create_level(data,7)\n",
    "level8_data = create_level(data,8)"
   ]
  },
  {
   "cell_type": "markdown",
   "metadata": {},
   "source": [
    "Now, we will create separate columns in our dataset to present category at each level."
   ]
  },
  {
   "cell_type": "code",
   "execution_count": 18,
   "metadata": {},
   "outputs": [],
   "source": [
    "data[\"level1\"] = level1_data\n",
    "data[\"level2\"] = level2_data\n",
    "data[\"level3\"] = level3_data\n",
    "data[\"level4\"] = level4_data\n",
    "data[\"level5\"] = level5_data\n",
    "data[\"level6\"] = level6_data\n",
    "data[\"level7\"] = level7_data\n",
    "data[\"level8\"] = level8_data\n"
   ]
  },
  {
   "cell_type": "markdown",
   "metadata": {},
   "source": [
    "### Final Structure of our dataset"
   ]
  },
  {
   "cell_type": "code",
   "execution_count": 19,
   "metadata": {},
   "outputs": [
    {
     "name": "stdout",
     "output_type": "stream",
     "text": [
      "<class 'pandas.core.frame.DataFrame'>\n",
      "RangeIndex: 19998 entries, 0 to 19997\n",
      "Data columns (total 12 columns):\n",
      " #   Column                 Non-Null Count  Dtype \n",
      "---  ------                 --------------  ----- \n",
      " 0   index                  19998 non-null  int64 \n",
      " 1   product_category_tree  19998 non-null  object\n",
      " 2   description            19998 non-null  object\n",
      " 3   length_category        19998 non-null  int64 \n",
      " 4   level1                 19998 non-null  object\n",
      " 5   level2                 19670 non-null  object\n",
      " 6   level3                 18541 non-null  object\n",
      " 7   level4                 14123 non-null  object\n",
      " 8   level5                 9357 non-null   object\n",
      " 9   level6                 4447 non-null   object\n",
      " 10  level7                 808 non-null    object\n",
      " 11  level8                 30 non-null     object\n",
      "dtypes: int64(2), object(10)\n",
      "memory usage: 1.8+ MB\n"
     ]
    }
   ],
   "source": [
    "data.info()"
   ]
  },
  {
   "cell_type": "code",
   "execution_count": 20,
   "metadata": {},
   "outputs": [
    {
     "data": {
      "text/html": [
       "<div>\n",
       "<style scoped>\n",
       "    .dataframe tbody tr th:only-of-type {\n",
       "        vertical-align: middle;\n",
       "    }\n",
       "\n",
       "    .dataframe tbody tr th {\n",
       "        vertical-align: top;\n",
       "    }\n",
       "\n",
       "    .dataframe thead th {\n",
       "        text-align: right;\n",
       "    }\n",
       "</style>\n",
       "<table border=\"1\" class=\"dataframe\">\n",
       "  <thead>\n",
       "    <tr style=\"text-align: right;\">\n",
       "      <th></th>\n",
       "      <th>index</th>\n",
       "      <th>product_category_tree</th>\n",
       "      <th>description</th>\n",
       "      <th>length_category</th>\n",
       "      <th>level1</th>\n",
       "      <th>level2</th>\n",
       "      <th>level3</th>\n",
       "      <th>level4</th>\n",
       "      <th>level5</th>\n",
       "      <th>level6</th>\n",
       "      <th>level7</th>\n",
       "      <th>level8</th>\n",
       "    </tr>\n",
       "  </thead>\n",
       "  <tbody>\n",
       "    <tr>\n",
       "      <th>0</th>\n",
       "      <td>0</td>\n",
       "      <td>[Clothing, Women's Clothing, Lingerie, Sleep &amp;...</td>\n",
       "      <td>Key Features of Alisha Solid Women's Cycling S...</td>\n",
       "      <td>6</td>\n",
       "      <td>Clothing</td>\n",
       "      <td>Women's Clothing</td>\n",
       "      <td>Lingerie, Sleep &amp; Swimwear</td>\n",
       "      <td>Shorts</td>\n",
       "      <td>Alisha Shorts</td>\n",
       "      <td>Alisha Solid Women's Cycling Shorts</td>\n",
       "      <td>None</td>\n",
       "      <td>None</td>\n",
       "    </tr>\n",
       "    <tr>\n",
       "      <th>1</th>\n",
       "      <td>1</td>\n",
       "      <td>[Furniture, Living Room Furniture, Sofa Beds &amp;...</td>\n",
       "      <td>FabHomeDecor Fabric Double Sofa Bed (Finish Co...</td>\n",
       "      <td>4</td>\n",
       "      <td>Furniture</td>\n",
       "      <td>Living Room Furniture</td>\n",
       "      <td>Sofa Beds &amp; Futons</td>\n",
       "      <td>FabHomeDecor Fabric Double Sofa Bed (Finish Co...</td>\n",
       "      <td>None</td>\n",
       "      <td>None</td>\n",
       "      <td>None</td>\n",
       "      <td>None</td>\n",
       "    </tr>\n",
       "    <tr>\n",
       "      <th>2</th>\n",
       "      <td>2</td>\n",
       "      <td>[Footwear, Women's Footwear, Ballerinas, AW Be...</td>\n",
       "      <td>Key Features of AW Bellies Sandals Wedges Heel...</td>\n",
       "      <td>4</td>\n",
       "      <td>Footwear</td>\n",
       "      <td>Women's Footwear</td>\n",
       "      <td>Ballerinas</td>\n",
       "      <td>AW Bellies</td>\n",
       "      <td>None</td>\n",
       "      <td>None</td>\n",
       "      <td>None</td>\n",
       "      <td>None</td>\n",
       "    </tr>\n",
       "    <tr>\n",
       "      <th>3</th>\n",
       "      <td>3</td>\n",
       "      <td>[Clothing, Women's Clothing, Lingerie, Sleep &amp;...</td>\n",
       "      <td>Key Features of Alisha Solid Women's Cycling S...</td>\n",
       "      <td>6</td>\n",
       "      <td>Clothing</td>\n",
       "      <td>Women's Clothing</td>\n",
       "      <td>Lingerie, Sleep &amp; Swimwear</td>\n",
       "      <td>Shorts</td>\n",
       "      <td>Alisha Shorts</td>\n",
       "      <td>Alisha Solid Women's Cycling Shorts</td>\n",
       "      <td>None</td>\n",
       "      <td>None</td>\n",
       "    </tr>\n",
       "    <tr>\n",
       "      <th>4</th>\n",
       "      <td>4</td>\n",
       "      <td>[Pet Supplies, Grooming, Skin &amp; Coat Care, Sha...</td>\n",
       "      <td>Specifications of Sicons All Purpose Arnica Do...</td>\n",
       "      <td>5</td>\n",
       "      <td>Pet Supplies</td>\n",
       "      <td>Grooming</td>\n",
       "      <td>Skin &amp; Coat Care</td>\n",
       "      <td>Shampoo</td>\n",
       "      <td>Sicons All Purpose Arnica Dog Shampoo (500 ml)</td>\n",
       "      <td>None</td>\n",
       "      <td>None</td>\n",
       "      <td>None</td>\n",
       "    </tr>\n",
       "  </tbody>\n",
       "</table>\n",
       "</div>"
      ],
      "text/plain": [
       "   index                              product_category_tree  \\\n",
       "0      0  [Clothing, Women's Clothing, Lingerie, Sleep &...   \n",
       "1      1  [Furniture, Living Room Furniture, Sofa Beds &...   \n",
       "2      2  [Footwear, Women's Footwear, Ballerinas, AW Be...   \n",
       "3      3  [Clothing, Women's Clothing, Lingerie, Sleep &...   \n",
       "4      4  [Pet Supplies, Grooming, Skin & Coat Care, Sha...   \n",
       "\n",
       "                                         description  length_category  \\\n",
       "0  Key Features of Alisha Solid Women's Cycling S...                6   \n",
       "1  FabHomeDecor Fabric Double Sofa Bed (Finish Co...                4   \n",
       "2  Key Features of AW Bellies Sandals Wedges Heel...                4   \n",
       "3  Key Features of Alisha Solid Women's Cycling S...                6   \n",
       "4  Specifications of Sicons All Purpose Arnica Do...                5   \n",
       "\n",
       "         level1                 level2                      level3  \\\n",
       "0      Clothing       Women's Clothing  Lingerie, Sleep & Swimwear   \n",
       "1     Furniture  Living Room Furniture          Sofa Beds & Futons   \n",
       "2      Footwear       Women's Footwear                  Ballerinas   \n",
       "3      Clothing       Women's Clothing  Lingerie, Sleep & Swimwear   \n",
       "4  Pet Supplies               Grooming            Skin & Coat Care   \n",
       "\n",
       "                                              level4  \\\n",
       "0                                             Shorts   \n",
       "1  FabHomeDecor Fabric Double Sofa Bed (Finish Co...   \n",
       "2                                         AW Bellies   \n",
       "3                                             Shorts   \n",
       "4                                            Shampoo   \n",
       "\n",
       "                                           level5  \\\n",
       "0                                   Alisha Shorts   \n",
       "1                                            None   \n",
       "2                                            None   \n",
       "3                                   Alisha Shorts   \n",
       "4  Sicons All Purpose Arnica Dog Shampoo (500 ml)   \n",
       "\n",
       "                                level6 level7 level8  \n",
       "0  Alisha Solid Women's Cycling Shorts   None   None  \n",
       "1                                 None   None   None  \n",
       "2                                 None   None   None  \n",
       "3  Alisha Solid Women's Cycling Shorts   None   None  \n",
       "4                                 None   None   None  "
      ]
     },
     "execution_count": 20,
     "metadata": {},
     "output_type": "execute_result"
    }
   ],
   "source": [
    "data.head()"
   ]
  },
  {
   "cell_type": "markdown",
   "metadata": {},
   "source": [
    "### Visualizing number of levels for various products"
   ]
  },
  {
   "cell_type": "code",
   "execution_count": 21,
   "metadata": {},
   "outputs": [],
   "source": [
    "count_of_items = list(data[\"length_category\"].value_counts(sort=False))\n",
    "levels = list([\"1 level\",\"2 levels\",\"3 levels\",\"4 levels\",\"5 levels\",\"6 levels\",\"7 levels\",\"8 levels\"])"
   ]
  },
  {
   "cell_type": "code",
   "execution_count": 22,
   "metadata": {},
   "outputs": [],
   "source": [
    "plt.style.use(\"seaborn\")"
   ]
  },
  {
   "cell_type": "code",
   "execution_count": 23,
   "metadata": {},
   "outputs": [
    {
     "data": {
      "image/png": "[encoded data removed]",
      "text/plain": [
       "<Figure size 720x720 with 1 Axes>"
      ]
     },
     "metadata": {},
     "output_type": "display_data"
    }
   ],
   "source": [
    "fig = plt.figure(figsize = (10, 10))\n",
    "plt.bar(levels, count_of_items, color ='red',width = 0.5)\n",
    "plt.xlabel(\"Levels\")\n",
    "plt.ylabel(\"Number of Items\")\n",
    "plt.title(\"Count of Items having different Number of levels in their product_category_tree\")\n",
    "plt.show()"
   ]
  },
  {
   "cell_type": "code",
   "execution_count": 24,
   "metadata": {},
   "outputs": [
    {
     "data": {
      "image/png": "[encoded data removed]",
      "text/plain": [
       "<Figure size 720x720 with 1 Axes>"
      ]
     },
     "metadata": {},
     "output_type": "display_data"
    }
   ],
   "source": [
    "fig = plt.figure(figsize =(10, 10))\n",
    "plt.pie(count_of_items, labels = levels,textprops = {'fontsize': 14},autopct='%1.1f%%',explode=(0.3,0,0,0,0,0,0,0))\n",
    "\n",
    "plt.title(\"Percentage of Items having different Number of levels in their product_category_tree\")\n",
    "plt.show()"
   ]
  },
  {
   "cell_type": "markdown",
   "metadata": {},
   "source": [
    "### Visualizing unique categories at each level"
   ]
  },
  {
   "cell_type": "code",
   "execution_count": 25,
   "metadata": {},
   "outputs": [],
   "source": [
    "list_unique_categories = []\n",
    "c = 0\n",
    "for i in range(0,8):\n",
    "    c = len(pd.unique(data[\"level\" + str(i + 1)]))\n",
    "    list_unique_categories.append(c)    "
   ]
  },
  {
   "cell_type": "code",
   "execution_count": 26,
   "metadata": {},
   "outputs": [
    {
     "data": {
      "image/png": "[encoded data removed]",
      "text/plain": [
       "<Figure size 720x720 with 1 Axes>"
      ]
     },
     "metadata": {},
     "output_type": "display_data"
    }
   ],
   "source": [
    "level_no = [\"LEVEL 1\",\"LEVEL 2\",\"LEVEL 3\",\"LEVEL 4\",\"LEVEL 5\",\"LEVEL 6\",\"LEVEL 7\",\"LEVEL 8\"]\n",
    "\n",
    "fig = plt.figure(figsize = (10, 10))\n",
    "\n",
    "plt.bar(level_no, list_unique_categories, color = 'blue',width = 0.5)\n",
    "\n",
    "plt.xlabel(\"Levels\")\n",
    "plt.ylabel(\"Number of Categories\")\n",
    "plt.title(\"Number of Unique Categories at each Level\")\n",
    "\n",
    "plt.show()"
   ]
  },
  {
   "cell_type": "markdown",
   "metadata": {},
   "source": [
    "#### Total unique categories across all levels are:"
   ]
  },
  {
   "cell_type": "code",
   "execution_count": 27,
   "metadata": {},
   "outputs": [],
   "source": [
    "total_unique_categories = np.sum(list_unique_categories)"
   ]
  },
  {
   "cell_type": "code",
   "execution_count": 28,
   "metadata": {},
   "outputs": [
    {
     "name": "stdout",
     "output_type": "stream",
     "text": [
      "9245\n"
     ]
    }
   ],
   "source": [
    "print(total_unique_categories)"
   ]
  },
  {
   "cell_type": "markdown",
   "metadata": {},
   "source": [
    "### Printing some items which have a single level"
   ]
  },
  {
   "cell_type": "code",
   "execution_count": 29,
   "metadata": {},
   "outputs": [
    {
     "data": {
      "text/html": [
       "<div>\n",
       "<style scoped>\n",
       "    .dataframe tbody tr th:only-of-type {\n",
       "        vertical-align: middle;\n",
       "    }\n",
       "\n",
       "    .dataframe tbody tr th {\n",
       "        vertical-align: top;\n",
       "    }\n",
       "\n",
       "    .dataframe thead th {\n",
       "        text-align: right;\n",
       "    }\n",
       "</style>\n",
       "<table border=\"1\" class=\"dataframe\">\n",
       "  <thead>\n",
       "    <tr style=\"text-align: right;\">\n",
       "      <th></th>\n",
       "      <th>index</th>\n",
       "      <th>product_category_tree</th>\n",
       "      <th>description</th>\n",
       "      <th>length_category</th>\n",
       "      <th>level1</th>\n",
       "      <th>level2</th>\n",
       "      <th>level3</th>\n",
       "      <th>level4</th>\n",
       "      <th>level5</th>\n",
       "      <th>level6</th>\n",
       "      <th>level7</th>\n",
       "      <th>level8</th>\n",
       "    </tr>\n",
       "  </thead>\n",
       "  <tbody>\n",
       "    <tr>\n",
       "      <th>5</th>\n",
       "      <td>5</td>\n",
       "      <td>[Eternal Gandhi Super Series Crystal Paper Wei...</td>\n",
       "      <td>Key Features of Eternal Gandhi Super Series Cr...</td>\n",
       "      <td>1</td>\n",
       "      <td>Eternal Gandhi Super Series Crystal Paper Weig...</td>\n",
       "      <td>None</td>\n",
       "      <td>None</td>\n",
       "      <td>None</td>\n",
       "      <td>None</td>\n",
       "      <td>None</td>\n",
       "      <td>None</td>\n",
       "      <td>None</td>\n",
       "    </tr>\n",
       "    <tr>\n",
       "      <th>30</th>\n",
       "      <td>30</td>\n",
       "      <td>[Bengal Blooms Rose Artificial Plant  with Pot...</td>\n",
       "      <td>Key Features of Bengal Blooms Rose Artificial ...</td>\n",
       "      <td>1</td>\n",
       "      <td>Bengal Blooms Rose Artificial Plant  with Pot ...</td>\n",
       "      <td>None</td>\n",
       "      <td>None</td>\n",
       "      <td>None</td>\n",
       "      <td>None</td>\n",
       "      <td>None</td>\n",
       "      <td>None</td>\n",
       "      <td>None</td>\n",
       "    </tr>\n",
       "    <tr>\n",
       "      <th>44</th>\n",
       "      <td>44</td>\n",
       "      <td>[Vishudh Printed Women's Straight Kurta]</td>\n",
       "      <td>Specifications of Vishudh Printed Women's Stra...</td>\n",
       "      <td>1</td>\n",
       "      <td>Vishudh Printed Women's Straight Kurta</td>\n",
       "      <td>None</td>\n",
       "      <td>None</td>\n",
       "      <td>None</td>\n",
       "      <td>None</td>\n",
       "      <td>None</td>\n",
       "      <td>None</td>\n",
       "      <td>None</td>\n",
       "    </tr>\n",
       "    <tr>\n",
       "      <th>45</th>\n",
       "      <td>45</td>\n",
       "      <td>[Vishudh Printed Women's Straight Kurta]</td>\n",
       "      <td>Specifications of Vishudh Printed Women's Stra...</td>\n",
       "      <td>1</td>\n",
       "      <td>Vishudh Printed Women's Straight Kurta</td>\n",
       "      <td>None</td>\n",
       "      <td>None</td>\n",
       "      <td>None</td>\n",
       "      <td>None</td>\n",
       "      <td>None</td>\n",
       "      <td>None</td>\n",
       "      <td>None</td>\n",
       "    </tr>\n",
       "    <tr>\n",
       "      <th>46</th>\n",
       "      <td>46</td>\n",
       "      <td>[Vishudh Printed Women's Anarkali Kurta]</td>\n",
       "      <td>Specifications of Vishudh Printed Women's Anar...</td>\n",
       "      <td>1</td>\n",
       "      <td>Vishudh Printed Women's Anarkali Kurta</td>\n",
       "      <td>None</td>\n",
       "      <td>None</td>\n",
       "      <td>None</td>\n",
       "      <td>None</td>\n",
       "      <td>None</td>\n",
       "      <td>None</td>\n",
       "      <td>None</td>\n",
       "    </tr>\n",
       "  </tbody>\n",
       "</table>\n",
       "</div>"
      ],
      "text/plain": [
       "    index                              product_category_tree  \\\n",
       "5       5  [Eternal Gandhi Super Series Crystal Paper Wei...   \n",
       "30     30  [Bengal Blooms Rose Artificial Plant  with Pot...   \n",
       "44     44           [Vishudh Printed Women's Straight Kurta]   \n",
       "45     45           [Vishudh Printed Women's Straight Kurta]   \n",
       "46     46           [Vishudh Printed Women's Anarkali Kurta]   \n",
       "\n",
       "                                          description  length_category  \\\n",
       "5   Key Features of Eternal Gandhi Super Series Cr...                1   \n",
       "30  Key Features of Bengal Blooms Rose Artificial ...                1   \n",
       "44  Specifications of Vishudh Printed Women's Stra...                1   \n",
       "45  Specifications of Vishudh Printed Women's Stra...                1   \n",
       "46  Specifications of Vishudh Printed Women's Anar...                1   \n",
       "\n",
       "                                               level1 level2 level3 level4  \\\n",
       "5   Eternal Gandhi Super Series Crystal Paper Weig...   None   None   None   \n",
       "30  Bengal Blooms Rose Artificial Plant  with Pot ...   None   None   None   \n",
       "44             Vishudh Printed Women's Straight Kurta   None   None   None   \n",
       "45             Vishudh Printed Women's Straight Kurta   None   None   None   \n",
       "46             Vishudh Printed Women's Anarkali Kurta   None   None   None   \n",
       "\n",
       "   level5 level6 level7 level8  \n",
       "5    None   None   None   None  \n",
       "30   None   None   None   None  \n",
       "44   None   None   None   None  \n",
       "45   None   None   None   None  \n",
       "46   None   None   None   None  "
      ]
     },
     "execution_count": 29,
     "metadata": {},
     "output_type": "execute_result"
    }
   ],
   "source": [
    "data[data[\"length_category\"] == 1][:5]"
   ]
  },
  {
   "cell_type": "code",
   "execution_count": 30,
   "metadata": {},
   "outputs": [
    {
     "data": {
      "text/html": [
       "<div>\n",
       "<style scoped>\n",
       "    .dataframe tbody tr th:only-of-type {\n",
       "        vertical-align: middle;\n",
       "    }\n",
       "\n",
       "    .dataframe tbody tr th {\n",
       "        vertical-align: top;\n",
       "    }\n",
       "\n",
       "    .dataframe thead th {\n",
       "        text-align: right;\n",
       "    }\n",
       "</style>\n",
       "<table border=\"1\" class=\"dataframe\">\n",
       "  <thead>\n",
       "    <tr style=\"text-align: right;\">\n",
       "      <th></th>\n",
       "      <th>index</th>\n",
       "      <th>product_category_tree</th>\n",
       "      <th>description</th>\n",
       "      <th>length_category</th>\n",
       "      <th>level1</th>\n",
       "      <th>level2</th>\n",
       "      <th>level3</th>\n",
       "      <th>level4</th>\n",
       "      <th>level5</th>\n",
       "      <th>level6</th>\n",
       "      <th>level7</th>\n",
       "      <th>level8</th>\n",
       "    </tr>\n",
       "  </thead>\n",
       "  <tbody>\n",
       "    <tr>\n",
       "      <th>19419</th>\n",
       "      <td>19421</td>\n",
       "      <td>[Pazel Slim Fit Men's Jeans]</td>\n",
       "      <td>Key Features of Pazel Slim Fit Men's Jeans Col...</td>\n",
       "      <td>1</td>\n",
       "      <td>Pazel Slim Fit Men's Jeans</td>\n",
       "      <td>None</td>\n",
       "      <td>None</td>\n",
       "      <td>None</td>\n",
       "      <td>None</td>\n",
       "      <td>None</td>\n",
       "      <td>None</td>\n",
       "      <td>None</td>\n",
       "    </tr>\n",
       "    <tr>\n",
       "      <th>19429</th>\n",
       "      <td>19431</td>\n",
       "      <td>[SMART TRADERS Girls Bellies]</td>\n",
       "      <td>Key Features of SMART TRADERS Girls Bellies Oc...</td>\n",
       "      <td>1</td>\n",
       "      <td>SMART TRADERS Girls Bellies</td>\n",
       "      <td>None</td>\n",
       "      <td>None</td>\n",
       "      <td>None</td>\n",
       "      <td>None</td>\n",
       "      <td>None</td>\n",
       "      <td>None</td>\n",
       "      <td>None</td>\n",
       "    </tr>\n",
       "    <tr>\n",
       "      <th>19432</th>\n",
       "      <td>19434</td>\n",
       "      <td>[Corcepts Universal Tablet HD Ultra Clear Tran...</td>\n",
       "      <td>Key Features of Corcepts Universal Tablet HD U...</td>\n",
       "      <td>1</td>\n",
       "      <td>Corcepts Universal Tablet HD Ultra Clear Trans...</td>\n",
       "      <td>None</td>\n",
       "      <td>None</td>\n",
       "      <td>None</td>\n",
       "      <td>None</td>\n",
       "      <td>None</td>\n",
       "      <td>None</td>\n",
       "      <td>None</td>\n",
       "    </tr>\n",
       "    <tr>\n",
       "      <th>19433</th>\n",
       "      <td>19435</td>\n",
       "      <td>[Areon Luxurious Fragrance Long Lasting Car,Ho...</td>\n",
       "      <td>Key Features of Areon Luxurious Fragrance Long...</td>\n",
       "      <td>1</td>\n",
       "      <td>Areon Luxurious Fragrance Long Lasting Car,Hom...</td>\n",
       "      <td>None</td>\n",
       "      <td>None</td>\n",
       "      <td>None</td>\n",
       "      <td>None</td>\n",
       "      <td>None</td>\n",
       "      <td>None</td>\n",
       "      <td>None</td>\n",
       "    </tr>\n",
       "    <tr>\n",
       "      <th>19434</th>\n",
       "      <td>19436</td>\n",
       "      <td>[Corcepts Universal Tablet HD Ultra Clear Tran...</td>\n",
       "      <td>Key Features of Corcepts Universal Tablet HD U...</td>\n",
       "      <td>1</td>\n",
       "      <td>Corcepts Universal Tablet HD Ultra Clear Trans...</td>\n",
       "      <td>None</td>\n",
       "      <td>None</td>\n",
       "      <td>None</td>\n",
       "      <td>None</td>\n",
       "      <td>None</td>\n",
       "      <td>None</td>\n",
       "      <td>None</td>\n",
       "    </tr>\n",
       "  </tbody>\n",
       "</table>\n",
       "</div>"
      ],
      "text/plain": [
       "       index                              product_category_tree  \\\n",
       "19419  19421                       [Pazel Slim Fit Men's Jeans]   \n",
       "19429  19431                      [SMART TRADERS Girls Bellies]   \n",
       "19432  19434  [Corcepts Universal Tablet HD Ultra Clear Tran...   \n",
       "19433  19435  [Areon Luxurious Fragrance Long Lasting Car,Ho...   \n",
       "19434  19436  [Corcepts Universal Tablet HD Ultra Clear Tran...   \n",
       "\n",
       "                                             description  length_category  \\\n",
       "19419  Key Features of Pazel Slim Fit Men's Jeans Col...                1   \n",
       "19429  Key Features of SMART TRADERS Girls Bellies Oc...                1   \n",
       "19432  Key Features of Corcepts Universal Tablet HD U...                1   \n",
       "19433  Key Features of Areon Luxurious Fragrance Long...                1   \n",
       "19434  Key Features of Corcepts Universal Tablet HD U...                1   \n",
       "\n",
       "                                                  level1 level2 level3 level4  \\\n",
       "19419                         Pazel Slim Fit Men's Jeans   None   None   None   \n",
       "19429                        SMART TRADERS Girls Bellies   None   None   None   \n",
       "19432  Corcepts Universal Tablet HD Ultra Clear Trans...   None   None   None   \n",
       "19433  Areon Luxurious Fragrance Long Lasting Car,Hom...   None   None   None   \n",
       "19434  Corcepts Universal Tablet HD Ultra Clear Trans...   None   None   None   \n",
       "\n",
       "      level5 level6 level7 level8  \n",
       "19419   None   None   None   None  \n",
       "19429   None   None   None   None  \n",
       "19432   None   None   None   None  \n",
       "19433   None   None   None   None  \n",
       "19434   None   None   None   None  "
      ]
     },
     "execution_count": 30,
     "metadata": {},
     "output_type": "execute_result"
    }
   ],
   "source": [
    "data[data[\"length_category\"] == 1][-5:]"
   ]
  },
  {
   "cell_type": "markdown",
   "metadata": {},
   "source": [
    "#### From the above 2 cells we can observe that, the data items which contain level 1 only are very specific in nature, thus they cannot be the primary category.\n",
    "<br>\n",
    "<li> Therefore, we will remove those items which only have a single level of categorization. </li>\n",
    "<li> They form just <b> 1.2% </b> of the whole dataset, thus removing them will not affect our dataset significantly. </li>"
   ]
  },
  {
   "cell_type": "markdown",
   "metadata": {},
   "source": [
    "### Filtering out rows with data [ \"length_category \" ] == 1"
   ]
  },
  {
   "cell_type": "code",
   "execution_count": 31,
   "metadata": {},
   "outputs": [],
   "source": [
    "data_new = data[data[\"length_category\"] > 1]"
   ]
  },
  {
   "cell_type": "markdown",
   "metadata": {},
   "source": [
    "### Structure of Dataset after removing products with only 1 level of classification"
   ]
  },
  {
   "cell_type": "code",
   "execution_count": 32,
   "metadata": {},
   "outputs": [
    {
     "name": "stdout",
     "output_type": "stream",
     "text": [
      "<class 'pandas.core.frame.DataFrame'>\n",
      "Int64Index: 19670 entries, 0 to 19997\n",
      "Data columns (total 12 columns):\n",
      " #   Column                 Non-Null Count  Dtype \n",
      "---  ------                 --------------  ----- \n",
      " 0   index                  19670 non-null  int64 \n",
      " 1   product_category_tree  19670 non-null  object\n",
      " 2   description            19670 non-null  object\n",
      " 3   length_category        19670 non-null  int64 \n",
      " 4   level1                 19670 non-null  object\n",
      " 5   level2                 19670 non-null  object\n",
      " 6   level3                 18541 non-null  object\n",
      " 7   level4                 14123 non-null  object\n",
      " 8   level5                 9357 non-null   object\n",
      " 9   level6                 4447 non-null   object\n",
      " 10  level7                 808 non-null    object\n",
      " 11  level8                 30 non-null     object\n",
      "dtypes: int64(2), object(10)\n",
      "memory usage: 2.0+ MB\n"
     ]
    }
   ],
   "source": [
    "data_new.info()"
   ]
  },
  {
   "cell_type": "markdown",
   "metadata": {},
   "source": [
    "### Resetting the index values\n",
    "\n",
    "After removal of some rows, the indices of our data would be inconsistent.<br>\n",
    "So, we have to reset the index values for further processes."
   ]
  },
  {
   "cell_type": "code",
   "execution_count": 33,
   "metadata": {},
   "outputs": [],
   "source": [
    "data_new = data_new.reset_index()"
   ]
  },
  {
   "cell_type": "markdown",
   "metadata": {},
   "source": [
    "## Data Cleaning\n",
    "<br>\n",
    "Before training the model, we need to convert the text given in description into numerical values so that it could be processed by the model. But before doing this we need to clean this data and make it consistent so that our model does not learn unnecessary and repetitive values.\n",
    "<br><br>\n",
    "We have to perform the following operations to clean our data:\n",
    "<br><br>\n",
    "<li>Remove the numerical values and special character. This can be done using Regular Expression Tokenizer.</li>\n",
    "<li>Convert all the data into lowercase.</li>\n",
    "<li>Remove all the stopwords (such as the, he, have).</li>\n",
    "<li>Stemming all the words ie. converting the words into their root form. For example: eating, eats, eaten will be converted to eat.</li>"
   ]
  },
  {
   "cell_type": "code",
   "execution_count": 34,
   "metadata": {},
   "outputs": [],
   "source": [
    "tokenizer=RegexpTokenizer(r'[a-z]+')\n",
    "ps=PorterStemmer()\n",
    "eng_stopwords=set(stopwords.words(\"english\"))"
   ]
  },
  {
   "cell_type": "markdown",
   "metadata": {},
   "source": [
    "### The function getCleanedItem() will clean the text given in description."
   ]
  },
  {
   "cell_type": "code",
   "execution_count": 35,
   "metadata": {},
   "outputs": [],
   "source": [
    "def getCleanedItem(item):\n",
    "    item=str(item)\n",
    "    item=item.lower()\n",
    "    tokens=tokenizer.tokenize(item)\n",
    "    new_token=[token for token in tokens if token not in eng_stopwords]\n",
    "    stemmed_token=[ps.stem(token) for token in new_token]\n",
    "    clean_item=\" \".join(stemmed_token)\n",
    "    #print(item)\n",
    "    return clean_item"
   ]
  },
  {
   "cell_type": "markdown",
   "metadata": {},
   "source": [
    "#### The loop given below traverses through the \"description\" column and cleans the data."
   ]
  },
  {
   "cell_type": "code",
   "execution_count": 36,
   "metadata": {},
   "outputs": [
    {
     "name": "stderr",
     "output_type": "stream",
     "text": [
      "<ipython-input-36-4d453f60bb72>:2: SettingWithCopyWarning: \n",
      "A value is trying to be set on a copy of a slice from a DataFrame\n",
      "\n",
      "See the caveats in the documentation: https://pandas.pydata.org/pandas-docs/stable/user_guide/indexing.html#returning-a-view-versus-a-copy\n",
      "  data_new[\"description\"][i]=getCleanedItem(data_new[\"description\"][i])\n"
     ]
    }
   ],
   "source": [
    "for i in range(0,len(data_new)):\n",
    "    data_new[\"description\"][i]=getCleanedItem(data_new[\"description\"][i])"
   ]
  },
  {
   "cell_type": "code",
   "execution_count": 37,
   "metadata": {},
   "outputs": [
    {
     "data": {
      "text/html": [
       "<div>\n",
       "<style scoped>\n",
       "    .dataframe tbody tr th:only-of-type {\n",
       "        vertical-align: middle;\n",
       "    }\n",
       "\n",
       "    .dataframe tbody tr th {\n",
       "        vertical-align: top;\n",
       "    }\n",
       "\n",
       "    .dataframe thead th {\n",
       "        text-align: right;\n",
       "    }\n",
       "</style>\n",
       "<table border=\"1\" class=\"dataframe\">\n",
       "  <thead>\n",
       "    <tr style=\"text-align: right;\">\n",
       "      <th></th>\n",
       "      <th>level_0</th>\n",
       "      <th>index</th>\n",
       "      <th>product_category_tree</th>\n",
       "      <th>description</th>\n",
       "      <th>length_category</th>\n",
       "      <th>level1</th>\n",
       "      <th>level2</th>\n",
       "      <th>level3</th>\n",
       "      <th>level4</th>\n",
       "      <th>level5</th>\n",
       "      <th>level6</th>\n",
       "      <th>level7</th>\n",
       "      <th>level8</th>\n",
       "    </tr>\n",
       "  </thead>\n",
       "  <tbody>\n",
       "    <tr>\n",
       "      <th>0</th>\n",
       "      <td>0</td>\n",
       "      <td>0</td>\n",
       "      <td>[Clothing, Women's Clothing, Lingerie, Sleep &amp;...</td>\n",
       "      <td>key featur alisha solid women cycl short cotto...</td>\n",
       "      <td>6</td>\n",
       "      <td>Clothing</td>\n",
       "      <td>Women's Clothing</td>\n",
       "      <td>Lingerie, Sleep &amp; Swimwear</td>\n",
       "      <td>Shorts</td>\n",
       "      <td>Alisha Shorts</td>\n",
       "      <td>Alisha Solid Women's Cycling Shorts</td>\n",
       "      <td>None</td>\n",
       "      <td>None</td>\n",
       "    </tr>\n",
       "    <tr>\n",
       "      <th>1</th>\n",
       "      <td>1</td>\n",
       "      <td>1</td>\n",
       "      <td>[Furniture, Living Room Furniture, Sofa Beds &amp;...</td>\n",
       "      <td>fabhomedecor fabric doubl sofa bed finish colo...</td>\n",
       "      <td>4</td>\n",
       "      <td>Furniture</td>\n",
       "      <td>Living Room Furniture</td>\n",
       "      <td>Sofa Beds &amp; Futons</td>\n",
       "      <td>FabHomeDecor Fabric Double Sofa Bed (Finish Co...</td>\n",
       "      <td>None</td>\n",
       "      <td>None</td>\n",
       "      <td>None</td>\n",
       "      <td>None</td>\n",
       "    </tr>\n",
       "    <tr>\n",
       "      <th>2</th>\n",
       "      <td>2</td>\n",
       "      <td>2</td>\n",
       "      <td>[Footwear, Women's Footwear, Ballerinas, AW Be...</td>\n",
       "      <td>key featur aw belli sandal wedg heel casual aw...</td>\n",
       "      <td>4</td>\n",
       "      <td>Footwear</td>\n",
       "      <td>Women's Footwear</td>\n",
       "      <td>Ballerinas</td>\n",
       "      <td>AW Bellies</td>\n",
       "      <td>None</td>\n",
       "      <td>None</td>\n",
       "      <td>None</td>\n",
       "      <td>None</td>\n",
       "    </tr>\n",
       "    <tr>\n",
       "      <th>3</th>\n",
       "      <td>3</td>\n",
       "      <td>3</td>\n",
       "      <td>[Clothing, Women's Clothing, Lingerie, Sleep &amp;...</td>\n",
       "      <td>key featur alisha solid women cycl short cotto...</td>\n",
       "      <td>6</td>\n",
       "      <td>Clothing</td>\n",
       "      <td>Women's Clothing</td>\n",
       "      <td>Lingerie, Sleep &amp; Swimwear</td>\n",
       "      <td>Shorts</td>\n",
       "      <td>Alisha Shorts</td>\n",
       "      <td>Alisha Solid Women's Cycling Shorts</td>\n",
       "      <td>None</td>\n",
       "      <td>None</td>\n",
       "    </tr>\n",
       "    <tr>\n",
       "      <th>4</th>\n",
       "      <td>4</td>\n",
       "      <td>4</td>\n",
       "      <td>[Pet Supplies, Grooming, Skin &amp; Coat Care, Sha...</td>\n",
       "      <td>specif sicon purpos arnica dog shampoo ml gene...</td>\n",
       "      <td>5</td>\n",
       "      <td>Pet Supplies</td>\n",
       "      <td>Grooming</td>\n",
       "      <td>Skin &amp; Coat Care</td>\n",
       "      <td>Shampoo</td>\n",
       "      <td>Sicons All Purpose Arnica Dog Shampoo (500 ml)</td>\n",
       "      <td>None</td>\n",
       "      <td>None</td>\n",
       "      <td>None</td>\n",
       "    </tr>\n",
       "  </tbody>\n",
       "</table>\n",
       "</div>"
      ],
      "text/plain": [
       "   level_0  index                              product_category_tree  \\\n",
       "0        0      0  [Clothing, Women's Clothing, Lingerie, Sleep &...   \n",
       "1        1      1  [Furniture, Living Room Furniture, Sofa Beds &...   \n",
       "2        2      2  [Footwear, Women's Footwear, Ballerinas, AW Be...   \n",
       "3        3      3  [Clothing, Women's Clothing, Lingerie, Sleep &...   \n",
       "4        4      4  [Pet Supplies, Grooming, Skin & Coat Care, Sha...   \n",
       "\n",
       "                                         description  length_category  \\\n",
       "0  key featur alisha solid women cycl short cotto...                6   \n",
       "1  fabhomedecor fabric doubl sofa bed finish colo...                4   \n",
       "2  key featur aw belli sandal wedg heel casual aw...                4   \n",
       "3  key featur alisha solid women cycl short cotto...                6   \n",
       "4  specif sicon purpos arnica dog shampoo ml gene...                5   \n",
       "\n",
       "         level1                 level2                      level3  \\\n",
       "0      Clothing       Women's Clothing  Lingerie, Sleep & Swimwear   \n",
       "1     Furniture  Living Room Furniture          Sofa Beds & Futons   \n",
       "2      Footwear       Women's Footwear                  Ballerinas   \n",
       "3      Clothing       Women's Clothing  Lingerie, Sleep & Swimwear   \n",
       "4  Pet Supplies               Grooming            Skin & Coat Care   \n",
       "\n",
       "                                              level4  \\\n",
       "0                                             Shorts   \n",
       "1  FabHomeDecor Fabric Double Sofa Bed (Finish Co...   \n",
       "2                                         AW Bellies   \n",
       "3                                             Shorts   \n",
       "4                                            Shampoo   \n",
       "\n",
       "                                           level5  \\\n",
       "0                                   Alisha Shorts   \n",
       "1                                            None   \n",
       "2                                            None   \n",
       "3                                   Alisha Shorts   \n",
       "4  Sicons All Purpose Arnica Dog Shampoo (500 ml)   \n",
       "\n",
       "                                level6 level7 level8  \n",
       "0  Alisha Solid Women's Cycling Shorts   None   None  \n",
       "1                                 None   None   None  \n",
       "2                                 None   None   None  \n",
       "3  Alisha Solid Women's Cycling Shorts   None   None  \n",
       "4                                 None   None   None  "
      ]
     },
     "execution_count": 37,
     "metadata": {},
     "output_type": "execute_result"
    }
   ],
   "source": [
    "data_new.head()"
   ]
  },
  {
   "cell_type": "markdown",
   "metadata": {},
   "source": [
    "# Figuring out the primary category"
   ]
  },
  {
   "cell_type": "markdown",
   "metadata": {},
   "source": [
    "#### Unique categories from the complete product_category_tree "
   ]
  },
  {
   "cell_type": "code",
   "execution_count": 38,
   "metadata": {},
   "outputs": [
    {
     "name": "stdout",
     "output_type": "stream",
     "text": [
      "6466\n"
     ]
    }
   ],
   "source": [
    "print(len(pd.unique(dataset[\"product_category_tree\"])))"
   ]
  },
  {
   "cell_type": "markdown",
   "metadata": {},
   "source": [
    "# First Approach\n",
    "<br>\n",
    "Now if we would have considered the whole product_category_tree as our primary category, we would get <b>6466</b> categories for our model to choose an output from. This method is very naive and cannot be used in real-life scenarios because in reality, the end product is always different and thus no two items will ever have the same product_category_tree."
   ]
  },
  {
   "cell_type": "markdown",
   "metadata": {},
   "source": [
    "# Second Approach\n",
    "<br>\n",
    "Consider level 1 of all the products as the primary category.\n"
   ]
  },
  {
   "cell_type": "markdown",
   "metadata": {},
   "source": [
    "#### Displaying the unique values at Level 1"
   ]
  },
  {
   "cell_type": "code",
   "execution_count": 39,
   "metadata": {},
   "outputs": [
    {
     "name": "stdout",
     "output_type": "stream",
     "text": [
      "['Clothing' 'Furniture' 'Footwear' 'Pet Supplies' 'Pens & Stationery'\n",
      " 'Sports & Fitness' 'Beauty and Personal Care' 'Bags, Wallets & Belts'\n",
      " 'Home Decor & Festive Needs' 'Automotive' 'Tools & Hardware'\n",
      " 'Home Furnishing' 'Baby Care' 'Mobiles & Accessories' 'Food & Nutrition'\n",
      " 'Watches' 'Toys & School Supplies' 'Jewellery' 'Kitchen & Dining'\n",
      " 'Home & Kitchen' 'Computers' 'Cameras & Accessories'\n",
      " 'Health & Personal Care Appliances' 'Gaming' 'Home Improvement'\n",
      " 'Automation & Robotics' 'Sunglasses' 'Home Entertainment'\n",
      " 'Wearable Smart Devices' 'Eyewear' 'eBooks' 'Household Supplies']\n"
     ]
    }
   ],
   "source": [
    "print(pd.unique(data_new[\"level1\"]))"
   ]
  },
  {
   "cell_type": "markdown",
   "metadata": {},
   "source": [
    "#### Displaying the count of unique level 1 categories"
   ]
  },
  {
   "cell_type": "code",
   "execution_count": 40,
   "metadata": {},
   "outputs": [
    {
     "name": "stdout",
     "output_type": "stream",
     "text": [
      "32\n"
     ]
    }
   ],
   "source": [
    "print(len(pd.unique(data_new[\"level1\"])))"
   ]
  },
  {
   "cell_type": "markdown",
   "metadata": {},
   "source": [
    "### Why is second approach not suitable?\n",
    "<br>\n",
    "Although this approach reduces the number of unique categories, it is not good enough as it still does not gives us the exact primary category for a particular item.\n",
    "<br><br>\n",
    "Let us consider an example....\n",
    "<br><br>\n",
    "Clothing >> Women's Clothing >> Lingerie, Sleep & Swimwear >> Shorts >> Alisha Shorts >> Alisha Solid Women's Cycling Shorts\n",
    "<br><br>\n",
    "Now for this item, the primary category should be <b>shorts</b> as the item <b>Alisha Solid Women's Cycling Shorts</b> is a specific kind of shorts.\n"
   ]
  },
  {
   "cell_type": "markdown",
   "metadata": {},
   "source": [
    "#### Thus, it is not necessary that the level 1 category is the primary category."
   ]
  },
  {
   "cell_type": "markdown",
   "metadata": {},
   "source": [
    "# Third Approach"
   ]
  },
  {
   "cell_type": "markdown",
   "metadata": {},
   "source": [
    "#### Let us visualize some data first."
   ]
  },
  {
   "cell_type": "markdown",
   "metadata": {},
   "source": [
    "### Catergories in level 1 "
   ]
  },
  {
   "cell_type": "code",
   "execution_count": 41,
   "metadata": {},
   "outputs": [
    {
     "data": {
      "image/png": "[encoded data removed]",
      "text/plain": [
       "<Figure size 720x720 with 1 Axes>"
      ]
     },
     "metadata": {},
     "output_type": "display_data"
    }
   ],
   "source": [
    "plt.figure(figsize=(10,10))\n",
    "data_new['level1'].value_counts()[:15].sort_values(ascending=True).plot(kind='barh')\n",
    "plt.title(\"Top 15 categories in Level 1\")\n",
    "plt.yticks(fontsize=12)\n",
    "plt.xticks(fontsize=12)\n",
    "plt.show()"
   ]
  },
  {
   "cell_type": "markdown",
   "metadata": {},
   "source": [
    "From the above graph we can observe that some categories in level 1 are very general and cannot be termed as the primary category for a particular product.\n",
    "<br><br>\n",
    "Let us take the example of Clothing, it consitutes a large part of the whole data and has a variety of sub-categories which can be considered as the primary category. Thus, we need to go inside the product_category_tree for categories which are very general."
   ]
  },
  {
   "cell_type": "markdown",
   "metadata": {},
   "source": [
    "### Function to find further categorization of items with specific upper levels"
   ]
  },
  {
   "cell_type": "code",
   "execution_count": 42,
   "metadata": {},
   "outputs": [],
   "source": [
    "def give_number(upper_level,level_item,lower_level):\n",
    "    g=[]\n",
    "    for i in range(0,len(data_new)):\n",
    "        if data_new[upper_level][i]==level_item:\n",
    "            g.append(data_new[lower_level][i])\n",
    "\n",
    "    freq = {}\n",
    "    for items in g:\n",
    "        freq[items] = g.count(items)\n",
    "        \n",
    "    for key, value in freq.items():\n",
    "        print (\"% s : % d\"%(key, value))\n",
    "    "
   ]
  },
  {
   "cell_type": "markdown",
   "metadata": {},
   "source": [
    "#### Level 1 = \"Clothing\" have the following sub-categories at  Level 2"
   ]
  },
  {
   "cell_type": "code",
   "execution_count": 43,
   "metadata": {},
   "outputs": [
    {
     "name": "stdout",
     "output_type": "stream",
     "text": [
      "Women's Clothing :  3900\n",
      "Kids' Clothing :  520\n",
      "Men's Clothing :  1773\n",
      "fourgee Clothing :  1\n",
      "piftif Clothing :  1\n",
      "Clovia Clothing :  1\n",
      "Sonpra Clothing :  1\n"
     ]
    }
   ],
   "source": [
    "give_number(\"level1\",\"Clothing\",\"level2\")"
   ]
  },
  {
   "cell_type": "markdown",
   "metadata": {},
   "source": [
    "####  Level 1 = \"Clothing\" and Level 2 = \"Women's Clothing\" have the following sub-categories at Level 3"
   ]
  },
  {
   "cell_type": "code",
   "execution_count": 44,
   "metadata": {},
   "outputs": [
    {
     "name": "stdout",
     "output_type": "stream",
     "text": [
      "Lingerie, Sleep & Swimwear :  1208\n",
      "Sports & Gym Wear :  49\n",
      "Fusion Wear :  73\n",
      "Ethnic Wear :  468\n",
      "Formal Wear :  19\n",
      "Western Wear :  1980\n",
      "Accessories :  17\n",
      "Winter & Seasonal Wear :  32\n",
      "Maternity Wear :  21\n",
      "Starsy Women's Clothing :  1\n",
      "fourgee Women's Clothing :  1\n",
      "Viral Girl Women's Clothing :  1\n",
      "Clovia Women's Clothing :  1\n",
      "DOLZ Women's Clothing :  1\n",
      "TIMBERLAKE Women's Clothing :  1\n",
      "Leggings & Jeggings :  22\n",
      "Combo Sets :  5\n"
     ]
    }
   ],
   "source": [
    "give_number(\"level2\",\"Women's Clothing\",\"level3\")"
   ]
  },
  {
   "cell_type": "markdown",
   "metadata": {},
   "source": [
    "####  Level 1 = \"Clothing\" and Level 2 = \"Men's Clothing\" have the following sub-categories at  Level 3"
   ]
  },
  {
   "cell_type": "code",
   "execution_count": 45,
   "metadata": {},
   "outputs": [
    {
     "name": "stdout",
     "output_type": "stream",
     "text": [
      "Cargos, Shorts & 3/4ths :  21\n",
      "Winter & Seasonal Wear :  193\n",
      "Shirts :  234\n",
      "Jeans :  65\n",
      "Accessories & Combo Sets :  135\n",
      "Navaksha Men's Clothing :  32\n",
      "Posto Men's Clothing :  1\n",
      "Elite Neckties Men's Clothing :  1\n",
      "Sports Wear :  26\n",
      "Jewlook Men's Clothing :  1\n",
      "Suits & Blazers :  32\n",
      "T-Shirts :  903\n",
      "Ethnic Wear :  17\n",
      "Trousers :  35\n",
      "Inner Wear & Sleep Wear :  75\n",
      "Fabrics :  2\n"
     ]
    }
   ],
   "source": [
    "give_number(\"level2\",\"Men's Clothing\",\"level3\")"
   ]
  },
  {
   "cell_type": "markdown",
   "metadata": {},
   "source": [
    "#### From the above data, we can observe that some categories which are having a large number of items in them can be further divided into sub-parts and one of those sub-parts could be the primary category."
   ]
  },
  {
   "cell_type": "markdown",
   "metadata": {},
   "source": [
    "### Creating a dictionary to store frequency of all the categories across all levels.\n",
    "This would help to find the primary category. "
   ]
  },
  {
   "cell_type": "code",
   "execution_count": 46,
   "metadata": {},
   "outputs": [],
   "source": [
    "dict_num={}\n",
    "for i in range(0,len(data_new)):\n",
    "    for j in range(data_new[\"length_category\"][i]):\n",
    "        category = data_new['level'+str(j+1)][i]\n",
    "        if category in dict_num:\n",
    "            dict_num[category]+=1\n",
    "\n",
    "        else:\n",
    "            dict_num[category]=1"
   ]
  },
  {
   "cell_type": "markdown",
   "metadata": {},
   "source": [
    "## Finding the primary category according to third approach:\n",
    "<br>\n",
    "<ol>\n",
    "<li> Set a threshold percentage value.</li>\n",
    "<li> Check if we have reached the last element in product_category_tree.</li>\n",
    "<li> If yes, set the previous level as the primary category.</li>\n",
    "<li> If no, go further in the tree to check if the number of items (n) are more than the threshold percentage of total items (th).</li>\n",
    "<li> n < th : set the primary category to current level.</li>\n",
    "<li> n > th : go further in the product_category_tree.</li>\n",
    "</ol>   \n",
    "\n"
   ]
  },
  {
   "cell_type": "code",
   "execution_count": 47,
   "metadata": {},
   "outputs": [],
   "source": [
    "primary_category=[]\n",
    "threashold_percentage=0.3\n",
    "total=len(data_new)\n",
    "for i in range(0,len(data_new)):\n",
    "    level1_ele=data_new[\"level1\"][i]\n",
    "    n1=dict_num[level1_ele]\n",
    "    #print(n1,total*threashold_percentage)\n",
    "    #level1 analysis\n",
    "    if n1 < (total*threashold_percentage) or data_new[\"length_category\"][i]==1:\n",
    "        primary_category.append(data_new[\"level1\"][i])\n",
    "    else:\n",
    "        level2_ele=data_new[\"level2\"][i]\n",
    "        n2=dict_num[level2_ele]\n",
    "        threashold2 = int(n1*threashold_percentage)\n",
    "        #level2 analysis\n",
    "        if data_new[\"length_category\"][i]==2:\n",
    "            primary_category.append(data_new[\"level1\"][i])\n",
    "        elif n2 < threashold2 :\n",
    "            primary_category.append(data_new[\"level2\"][i])\n",
    "        else:\n",
    "            level3_ele=data_new[\"level3\"][i]\n",
    "            n3=dict_num[level3_ele]\n",
    "            threashold3 = int(n2*threashold_percentage)\n",
    "            #level3 analysis\n",
    "            if data_new[\"length_category\"][i]==3:\n",
    "                primary_category.append(data_new[\"level2\"][i])\n",
    "            elif n3 < threashold3 :\n",
    "                primary_category.append(data_new[\"level3\"][i])\n",
    "            else:\n",
    "                level4_ele=data_new[\"level4\"][i]\n",
    "                n4=dict_num[level4_ele]\n",
    "                threashold4 = int(n3*threashold_percentage)\n",
    "                #level4 analysis\n",
    "                if data_new[\"length_category\"][i]==4:\n",
    "                    primary_category.append(data_new[\"level3\"][i])\n",
    "                elif n4 < threashold4 :\n",
    "                    primary_category.append(data_new[\"level4\"][i])\n",
    "                else:\n",
    "                    level5_ele=data_new[\"level5\"][i]\n",
    "                    n5=dict_num[level5_ele]\n",
    "                    threashold5 = int(n5*threashold_percentage)\n",
    "                    #level5 analysis\n",
    "                    if data_new[\"length_category\"][i]==5:\n",
    "                        primary_category.append(data_new[\"level4\"][i])\n",
    "                    elif n5 < threashold5 :\n",
    "                        primary_category.append(data_new[\"level5\"][i])\n",
    "                    else:\n",
    "                        primary_category.append(data_new[\"level5\"][i])"
   ]
  },
  {
   "cell_type": "markdown",
   "metadata": {},
   "source": [
    "### Printing the unique values from primary category"
   ]
  },
  {
   "cell_type": "code",
   "execution_count": 48,
   "metadata": {},
   "outputs": [
    {
     "name": "stdout",
     "output_type": "stream",
     "text": [
      "93\n"
     ]
    }
   ],
   "source": [
    "new_set=set(primary_category)\n",
    "print(len(new_set))"
   ]
  },
  {
   "cell_type": "markdown",
   "metadata": {},
   "source": [
    "### Creating a new column in our dataset for primary category"
   ]
  },
  {
   "cell_type": "code",
   "execution_count": 49,
   "metadata": {},
   "outputs": [],
   "source": [
    "data_new[\"PC\"]=primary_category"
   ]
  },
  {
   "cell_type": "code",
   "execution_count": 50,
   "metadata": {},
   "outputs": [
    {
     "data": {
      "text/html": [
       "<div>\n",
       "<style scoped>\n",
       "    .dataframe tbody tr th:only-of-type {\n",
       "        vertical-align: middle;\n",
       "    }\n",
       "\n",
       "    .dataframe tbody tr th {\n",
       "        vertical-align: top;\n",
       "    }\n",
       "\n",
       "    .dataframe thead th {\n",
       "        text-align: right;\n",
       "    }\n",
       "</style>\n",
       "<table border=\"1\" class=\"dataframe\">\n",
       "  <thead>\n",
       "    <tr style=\"text-align: right;\">\n",
       "      <th></th>\n",
       "      <th>level_0</th>\n",
       "      <th>index</th>\n",
       "      <th>product_category_tree</th>\n",
       "      <th>description</th>\n",
       "      <th>length_category</th>\n",
       "      <th>level1</th>\n",
       "      <th>level2</th>\n",
       "      <th>level3</th>\n",
       "      <th>level4</th>\n",
       "      <th>level5</th>\n",
       "      <th>level6</th>\n",
       "      <th>level7</th>\n",
       "      <th>level8</th>\n",
       "      <th>PC</th>\n",
       "    </tr>\n",
       "  </thead>\n",
       "  <tbody>\n",
       "    <tr>\n",
       "      <th>0</th>\n",
       "      <td>0</td>\n",
       "      <td>0</td>\n",
       "      <td>[Clothing, Women's Clothing, Lingerie, Sleep &amp;...</td>\n",
       "      <td>key featur alisha solid women cycl short cotto...</td>\n",
       "      <td>6</td>\n",
       "      <td>Clothing</td>\n",
       "      <td>Women's Clothing</td>\n",
       "      <td>Lingerie, Sleep &amp; Swimwear</td>\n",
       "      <td>Shorts</td>\n",
       "      <td>Alisha Shorts</td>\n",
       "      <td>Alisha Solid Women's Cycling Shorts</td>\n",
       "      <td>None</td>\n",
       "      <td>None</td>\n",
       "      <td>Shorts</td>\n",
       "    </tr>\n",
       "    <tr>\n",
       "      <th>1</th>\n",
       "      <td>1</td>\n",
       "      <td>1</td>\n",
       "      <td>[Furniture, Living Room Furniture, Sofa Beds &amp;...</td>\n",
       "      <td>fabhomedecor fabric doubl sofa bed finish colo...</td>\n",
       "      <td>4</td>\n",
       "      <td>Furniture</td>\n",
       "      <td>Living Room Furniture</td>\n",
       "      <td>Sofa Beds &amp; Futons</td>\n",
       "      <td>FabHomeDecor Fabric Double Sofa Bed (Finish Co...</td>\n",
       "      <td>None</td>\n",
       "      <td>None</td>\n",
       "      <td>None</td>\n",
       "      <td>None</td>\n",
       "      <td>Furniture</td>\n",
       "    </tr>\n",
       "    <tr>\n",
       "      <th>2</th>\n",
       "      <td>2</td>\n",
       "      <td>2</td>\n",
       "      <td>[Footwear, Women's Footwear, Ballerinas, AW Be...</td>\n",
       "      <td>key featur aw belli sandal wedg heel casual aw...</td>\n",
       "      <td>4</td>\n",
       "      <td>Footwear</td>\n",
       "      <td>Women's Footwear</td>\n",
       "      <td>Ballerinas</td>\n",
       "      <td>AW Bellies</td>\n",
       "      <td>None</td>\n",
       "      <td>None</td>\n",
       "      <td>None</td>\n",
       "      <td>None</td>\n",
       "      <td>Footwear</td>\n",
       "    </tr>\n",
       "    <tr>\n",
       "      <th>3</th>\n",
       "      <td>3</td>\n",
       "      <td>3</td>\n",
       "      <td>[Clothing, Women's Clothing, Lingerie, Sleep &amp;...</td>\n",
       "      <td>key featur alisha solid women cycl short cotto...</td>\n",
       "      <td>6</td>\n",
       "      <td>Clothing</td>\n",
       "      <td>Women's Clothing</td>\n",
       "      <td>Lingerie, Sleep &amp; Swimwear</td>\n",
       "      <td>Shorts</td>\n",
       "      <td>Alisha Shorts</td>\n",
       "      <td>Alisha Solid Women's Cycling Shorts</td>\n",
       "      <td>None</td>\n",
       "      <td>None</td>\n",
       "      <td>Shorts</td>\n",
       "    </tr>\n",
       "    <tr>\n",
       "      <th>4</th>\n",
       "      <td>4</td>\n",
       "      <td>4</td>\n",
       "      <td>[Pet Supplies, Grooming, Skin &amp; Coat Care, Sha...</td>\n",
       "      <td>specif sicon purpos arnica dog shampoo ml gene...</td>\n",
       "      <td>5</td>\n",
       "      <td>Pet Supplies</td>\n",
       "      <td>Grooming</td>\n",
       "      <td>Skin &amp; Coat Care</td>\n",
       "      <td>Shampoo</td>\n",
       "      <td>Sicons All Purpose Arnica Dog Shampoo (500 ml)</td>\n",
       "      <td>None</td>\n",
       "      <td>None</td>\n",
       "      <td>None</td>\n",
       "      <td>Pet Supplies</td>\n",
       "    </tr>\n",
       "  </tbody>\n",
       "</table>\n",
       "</div>"
      ],
      "text/plain": [
       "   level_0  index                              product_category_tree  \\\n",
       "0        0      0  [Clothing, Women's Clothing, Lingerie, Sleep &...   \n",
       "1        1      1  [Furniture, Living Room Furniture, Sofa Beds &...   \n",
       "2        2      2  [Footwear, Women's Footwear, Ballerinas, AW Be...   \n",
       "3        3      3  [Clothing, Women's Clothing, Lingerie, Sleep &...   \n",
       "4        4      4  [Pet Supplies, Grooming, Skin & Coat Care, Sha...   \n",
       "\n",
       "                                         description  length_category  \\\n",
       "0  key featur alisha solid women cycl short cotto...                6   \n",
       "1  fabhomedecor fabric doubl sofa bed finish colo...                4   \n",
       "2  key featur aw belli sandal wedg heel casual aw...                4   \n",
       "3  key featur alisha solid women cycl short cotto...                6   \n",
       "4  specif sicon purpos arnica dog shampoo ml gene...                5   \n",
       "\n",
       "         level1                 level2                      level3  \\\n",
       "0      Clothing       Women's Clothing  Lingerie, Sleep & Swimwear   \n",
       "1     Furniture  Living Room Furniture          Sofa Beds & Futons   \n",
       "2      Footwear       Women's Footwear                  Ballerinas   \n",
       "3      Clothing       Women's Clothing  Lingerie, Sleep & Swimwear   \n",
       "4  Pet Supplies               Grooming            Skin & Coat Care   \n",
       "\n",
       "                                              level4  \\\n",
       "0                                             Shorts   \n",
       "1  FabHomeDecor Fabric Double Sofa Bed (Finish Co...   \n",
       "2                                         AW Bellies   \n",
       "3                                             Shorts   \n",
       "4                                            Shampoo   \n",
       "\n",
       "                                           level5  \\\n",
       "0                                   Alisha Shorts   \n",
       "1                                            None   \n",
       "2                                            None   \n",
       "3                                   Alisha Shorts   \n",
       "4  Sicons All Purpose Arnica Dog Shampoo (500 ml)   \n",
       "\n",
       "                                level6 level7 level8            PC  \n",
       "0  Alisha Solid Women's Cycling Shorts   None   None        Shorts  \n",
       "1                                 None   None   None     Furniture  \n",
       "2                                 None   None   None      Footwear  \n",
       "3  Alisha Solid Women's Cycling Shorts   None   None        Shorts  \n",
       "4                                 None   None   None  Pet Supplies  "
      ]
     },
     "execution_count": 50,
     "metadata": {},
     "output_type": "execute_result"
    }
   ],
   "source": [
    "data_new.head(n=5)"
   ]
  },
  {
   "cell_type": "code",
   "execution_count": null,
   "metadata": {},
   "outputs": [],
   "source": []
  },
  {
   "cell_type": "code",
   "execution_count": null,
   "metadata": {},
   "outputs": [],
   "source": []
  },
  {
   "cell_type": "markdown",
   "metadata": {},
   "source": [
    "# Preprocessing the data for training"
   ]
  },
  {
   "cell_type": "markdown",
   "metadata": {},
   "source": [
    "#### We have to label the primary category for training. We will use LabelEncoder() for this."
   ]
  },
  {
   "cell_type": "code",
   "execution_count": 51,
   "metadata": {},
   "outputs": [],
   "source": [
    "pc=list(data_new[\"PC\"])\n",
    "\n",
    "label_encoder = preprocessing.LabelEncoder()\n",
    "label = label_encoder.fit_transform(pc)"
   ]
  },
  {
   "cell_type": "markdown",
   "metadata": {},
   "source": [
    "#### For preprocessing the text in description, we have to do vectorization.\n",
    "Vectorization is the encoding of words as integers, or floating-point values, for use as inputs the algorithms. <br> \n",
    "We will use <b>CountVectorizer</b> for this purpose. It will convert our collection of text descriptions to a vector of term/token counts."
   ]
  },
  {
   "cell_type": "code",
   "execution_count": 52,
   "metadata": {},
   "outputs": [],
   "source": [
    "l=list(data_new[\"description\"])\n",
    "\n",
    "cv=CountVectorizer()\n",
    "x_vec=cv.fit_transform(l)"
   ]
  },
  {
   "cell_type": "markdown",
   "metadata": {},
   "source": [
    "### Train-Test Split"
   ]
  },
  {
   "cell_type": "markdown",
   "metadata": {},
   "source": [
    "We will split our data into 2 parts : training set and testing set."
   ]
  },
  {
   "cell_type": "markdown",
   "metadata": {},
   "source": [
    "#### Train-Test Set 1 ( 80%-Training Data, 20% - Testing Data )"
   ]
  },
  {
   "cell_type": "code",
   "execution_count": 53,
   "metadata": {},
   "outputs": [],
   "source": [
    "xtrain,xtest,ytrain,ytest=train_test_split(x_vec,label,test_size=0.2,random_state=42)"
   ]
  },
  {
   "cell_type": "markdown",
   "metadata": {},
   "source": [
    "#### Train-Test Set 2 ( 70%-Training Data, 30% - Testing Data )"
   ]
  },
  {
   "cell_type": "code",
   "execution_count": 54,
   "metadata": {},
   "outputs": [],
   "source": [
    "xtrain2,xtest2,ytrain2,ytest2=train_test_split(x_vec,label,test_size=0.3,random_state=10)"
   ]
  },
  {
   "cell_type": "markdown",
   "metadata": {},
   "source": [
    "# Training various machine learning models"
   ]
  },
  {
   "cell_type": "markdown",
   "metadata": {},
   "source": [
    "## 1. Naive Bayes Classifier"
   ]
  },
  {
   "cell_type": "markdown",
   "metadata": {},
   "source": [
    "### Training the model on Train-Test Set 1."
   ]
  },
  {
   "cell_type": "code",
   "execution_count": 55,
   "metadata": {},
   "outputs": [
    {
     "data": {
      "text/plain": [
       "MultinomialNB()"
      ]
     },
     "execution_count": 55,
     "metadata": {},
     "output_type": "execute_result"
    }
   ],
   "source": [
    "mnb = MultinomialNB()\n",
    "mnb.fit(xtrain,ytrain)"
   ]
  },
  {
   "cell_type": "code",
   "execution_count": 75,
   "metadata": {},
   "outputs": [
    {
     "name": "stdout",
     "output_type": "stream",
     "text": [
      "ACCURACY OF THE MODEL:  89.27300457549568\n"
     ]
    }
   ],
   "source": [
    "pred = mnb.predict(xtest)\n",
    "acc1 = metrics.accuracy_score(ytest, pred)\n",
    "print(\"ACCURACY OF THE MODEL: \", acc1*100)"
   ]
  },
  {
   "cell_type": "markdown",
   "metadata": {},
   "source": [
    "### Training the model on Train-Test Set 2."
   ]
  },
  {
   "cell_type": "code",
   "execution_count": 57,
   "metadata": {},
   "outputs": [
    {
     "data": {
      "text/plain": [
       "MultinomialNB()"
      ]
     },
     "execution_count": 57,
     "metadata": {},
     "output_type": "execute_result"
    }
   ],
   "source": [
    "mnb2 = MultinomialNB()\n",
    "mnb2.fit(xtrain2,ytrain2)"
   ]
  },
  {
   "cell_type": "code",
   "execution_count": 76,
   "metadata": {},
   "outputs": [
    {
     "name": "stdout",
     "output_type": "stream",
     "text": [
      "ACCURACY OF THE MODEL:  87.51059142518217\n"
     ]
    }
   ],
   "source": [
    "pred2 = mnb2.predict(xtest2)\n",
    "acc21 = metrics.accuracy_score(ytest2, pred2)\n",
    "print(\"ACCURACY OF THE MODEL: \", acc21*100)"
   ]
  },
  {
   "cell_type": "markdown",
   "metadata": {},
   "source": [
    "## 2.  SVM"
   ]
  },
  {
   "cell_type": "markdown",
   "metadata": {},
   "source": [
    "### Training the model on Train-Test Set 1."
   ]
  },
  {
   "cell_type": "markdown",
   "metadata": {},
   "source": [
    "#### Linear SVM"
   ]
  },
  {
   "cell_type": "code",
   "execution_count": 59,
   "metadata": {},
   "outputs": [
    {
     "data": {
      "text/plain": [
       "SVC(kernel='linear')"
      ]
     },
     "execution_count": 59,
     "metadata": {},
     "output_type": "execute_result"
    }
   ],
   "source": [
    "svc1 = svm.SVC(kernel='linear',C=1.0)\n",
    "svc1.fit(xtrain,ytrain)"
   ]
  },
  {
   "cell_type": "code",
   "execution_count": 60,
   "metadata": {},
   "outputs": [
    {
     "name": "stdout",
     "output_type": "stream",
     "text": [
      "ACCURACY OF THE MODEL:  96.18708693441789\n"
     ]
    }
   ],
   "source": [
    "acc2 = svc1.score(xtest, ytest)\n",
    "print(\"ACCURACY OF THE MODEL: \", acc2*100)"
   ]
  },
  {
   "cell_type": "markdown",
   "metadata": {},
   "source": [
    "#### Gaussian SVM"
   ]
  },
  {
   "cell_type": "code",
   "execution_count": 61,
   "metadata": {},
   "outputs": [
    {
     "data": {
      "text/plain": [
       "SVC(C=10)"
      ]
     },
     "execution_count": 61,
     "metadata": {},
     "output_type": "execute_result"
    }
   ],
   "source": [
    "svc=svm.SVC(kernel='rbf',C=10)\n",
    "svc.fit(xtrain,ytrain)"
   ]
  },
  {
   "cell_type": "code",
   "execution_count": 77,
   "metadata": {},
   "outputs": [
    {
     "name": "stdout",
     "output_type": "stream",
     "text": [
      "ACCURACY OF THE MODEL:  95.01779359430606\n"
     ]
    }
   ],
   "source": [
    "acc3 = svc.score(xtest, ytest)\n",
    "print(\"ACCURACY OF THE MODEL: \", acc3*100)"
   ]
  },
  {
   "cell_type": "markdown",
   "metadata": {},
   "source": [
    "### Training the model on Train-Test Set 2."
   ]
  },
  {
   "cell_type": "markdown",
   "metadata": {},
   "source": [
    "#### Linear SVM"
   ]
  },
  {
   "cell_type": "code",
   "execution_count": 63,
   "metadata": {},
   "outputs": [
    {
     "data": {
      "text/plain": [
       "SVC(kernel='linear')"
      ]
     },
     "execution_count": 63,
     "metadata": {},
     "output_type": "execute_result"
    }
   ],
   "source": [
    "svc21 = svm.SVC(kernel='linear',C=1.0)\n",
    "svc21.fit(xtrain2,ytrain2)"
   ]
  },
  {
   "cell_type": "code",
   "execution_count": 78,
   "metadata": {},
   "outputs": [
    {
     "name": "stdout",
     "output_type": "stream",
     "text": [
      "ACCURACY OF THE MODEL:  95.9667852906287\n"
     ]
    }
   ],
   "source": [
    "acc22 = svc21.score(xtest2, ytest2)\n",
    "print(\"ACCURACY OF THE MODEL: \", acc22*100)"
   ]
  },
  {
   "cell_type": "markdown",
   "metadata": {},
   "source": [
    "#### Gaussian SVM"
   ]
  },
  {
   "cell_type": "code",
   "execution_count": 65,
   "metadata": {},
   "outputs": [
    {
     "data": {
      "text/plain": [
       "SVC(C=10)"
      ]
     },
     "execution_count": 65,
     "metadata": {},
     "output_type": "execute_result"
    }
   ],
   "source": [
    "svc22=svm.SVC(kernel='rbf',C=10)\n",
    "svc22.fit(xtrain2,ytrain2)"
   ]
  },
  {
   "cell_type": "code",
   "execution_count": 79,
   "metadata": {},
   "outputs": [
    {
     "name": "stdout",
     "output_type": "stream",
     "text": [
      "ACCURACY OF THE MODEL:  94.59413658701915\n"
     ]
    }
   ],
   "source": [
    "acc23 = svc22.score(xtest2, ytest2)\n",
    "print(\"ACCURACY OF THE MODEL: \", acc23*100)"
   ]
  },
  {
   "cell_type": "markdown",
   "metadata": {},
   "source": [
    "## 3. Random Forest Classifier"
   ]
  },
  {
   "cell_type": "markdown",
   "metadata": {},
   "source": [
    "### Training the model on Train-Test Set 1."
   ]
  },
  {
   "cell_type": "code",
   "execution_count": 67,
   "metadata": {},
   "outputs": [
    {
     "data": {
      "text/plain": [
       "RandomForestClassifier(n_estimators=50)"
      ]
     },
     "execution_count": 67,
     "metadata": {},
     "output_type": "execute_result"
    }
   ],
   "source": [
    "clf = RandomForestClassifier(n_estimators = 50)  \n",
    "clf.fit(xtrain, ytrain)"
   ]
  },
  {
   "cell_type": "code",
   "execution_count": 80,
   "metadata": {},
   "outputs": [
    {
     "name": "stdout",
     "output_type": "stream",
     "text": [
      "ACCURACY OF THE MODEL:  95.22114895780376\n"
     ]
    }
   ],
   "source": [
    "y_pred = clf.predict(xtest)\n",
    "acc4 = metrics.accuracy_score(ytest, y_pred)\n",
    "print(\"ACCURACY OF THE MODEL: \", acc4*100)"
   ]
  },
  {
   "cell_type": "markdown",
   "metadata": {},
   "source": [
    "### Training the model on Train-Test Set 2."
   ]
  },
  {
   "cell_type": "code",
   "execution_count": 69,
   "metadata": {},
   "outputs": [
    {
     "data": {
      "text/plain": [
       "RandomForestClassifier(n_estimators=50)"
      ]
     },
     "execution_count": 69,
     "metadata": {},
     "output_type": "execute_result"
    }
   ],
   "source": [
    "clf2 = RandomForestClassifier(n_estimators = 50)  \n",
    "clf2.fit(xtrain2, ytrain2)"
   ]
  },
  {
   "cell_type": "code",
   "execution_count": 81,
   "metadata": {},
   "outputs": [
    {
     "name": "stdout",
     "output_type": "stream",
     "text": [
      "ACCURACY OF THE MODEL:  95.2719877986782\n"
     ]
    }
   ],
   "source": [
    "y_pred2 = clf2.predict(xtest2)\n",
    "acc24 = metrics.accuracy_score(ytest2, y_pred2)\n",
    "print(\"ACCURACY OF THE MODEL: \", acc24*100)"
   ]
  },
  {
   "cell_type": "markdown",
   "metadata": {},
   "source": [
    "## Comparing the accuracy of various models ( SET 1 )"
   ]
  },
  {
   "cell_type": "code",
   "execution_count": 71,
   "metadata": {},
   "outputs": [],
   "source": [
    "acc=[acc1*100,acc2*100,acc3*100,acc4*100]\n",
    "model=[\"Naive Bayes\", \"Linear SVM\", \"Gaussian SVM\", \"Random Forest\"]"
   ]
  },
  {
   "cell_type": "code",
   "execution_count": 72,
   "metadata": {},
   "outputs": [
    {
     "data": {
      "image/png": "[encoded data removed]",
      "text/plain": [
       "<Figure size 360x360 with 1 Axes>"
      ]
     },
     "metadata": {},
     "output_type": "display_data"
    }
   ],
   "source": [
    "fig = plt.figure(figsize = (5, 5))\n",
    "plt.bar(model, acc, color ='green',width = 0.3)\n",
    "plt.xlabel(\"Models\")\n",
    "plt.ylabel(\"Accuracy\")\n",
    "plt.xticks((1, 2, 3, 4), (\"Naive Bayes\", \"Linear SVM\", \"Gaussian SVM\", \"Random Forest\"))\n",
    "plt.title(\"Testing accuracy of various models (SET 1)\")\n",
    "plt.show()"
   ]
  },
  {
   "cell_type": "markdown",
   "metadata": {},
   "source": [
    "### Thus, we can see that both SVM and Random Forest Classifier gave approximately 95% accuracy."
   ]
  },
  {
   "cell_type": "markdown",
   "metadata": {},
   "source": [
    "## Comparing the accuracy of various models across Train- Test SET 1 and 2"
   ]
  },
  {
   "cell_type": "code",
   "execution_count": 73,
   "metadata": {},
   "outputs": [],
   "source": [
    "acc_t2=[acc21*100,acc22*100,acc23*100,acc24*100]\n",
    "model=np.array([1,2,3,4])\n",
    "acct1=np.array(acc)\n",
    "acct2=np.array(acc_t2)"
   ]
  },
  {
   "cell_type": "code",
   "execution_count": 74,
   "metadata": {},
   "outputs": [
    {
     "data": {
      "image/png": "[encoded data removed]",
      "text/plain": [
       "<Figure size 504x504 with 1 Axes>"
      ]
     },
     "metadata": {},
     "output_type": "display_data"
    }
   ],
   "source": [
    "fig = plt.figure(figsize = (7, 7))\n",
    "ax = plt.subplot(111)\n",
    "ax.bar(model-0.2, acct1, width=0.2, color='b', align='center',label=\"test set 2\")\n",
    "ax.bar(model, acct2, width=0.2, color='g', align='center',label=\"test set 1\")\n",
    "plt.xticks((1, 2, 3, 4), (\"Naive Bayes\", \"Linear SVM\", \"Gaussian SVM\", \"Random Forest\"))\n",
    "plt.legend()\n",
    "plt.show()"
   ]
  },
  {
   "cell_type": "markdown",
   "metadata": {},
   "source": [
    "### Thus, our models gave comparable accuracies when trained and tested on different Train-Test Sets."
   ]
  },
  {
   "cell_type": "code",
   "execution_count": null,
   "metadata": {},
   "outputs": [],
   "source": []
  }
 ],
 "metadata": {
  "kernelspec": {
   "display_name": "Python 3",
   "language": "python",
   "name": "python3"
  },
  "language_info": {
   "codemirror_mode": {
    "name": "ipython",
    "version": 3
   },
   "file_extension": ".py",
   "mimetype": "text/x-python",
   "name": "python",
   "nbconvert_exporter": "python",
   "pygments_lexer": "ipython3",
   "version": "3.8.3"
  }
 },
 "nbformat": 4,
 "nbformat_minor": 4
}
